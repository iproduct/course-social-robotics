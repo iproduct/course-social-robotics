{
 "cells": [
  {
   "cell_type": "code",
   "execution_count": 1,
   "metadata": {},
   "outputs": [
    {
     "data": {
      "text/plain": "'1.1.4'"
     },
     "execution_count": 1,
     "metadata": {},
     "output_type": "execute_result"
    }
   ],
   "source": [
    "import pandas as pd\n",
    "pd.__version__"
   ]
  },
  {
   "cell_type": "code",
   "execution_count": 2,
   "metadata": {},
   "outputs": [],
   "source": [
    "import numpy as np\n",
    "import pandas as pd\n",
    "from sklearn.linear_model import LinearRegression\n",
    "from sklearn.model_selection import train_test_split\n",
    "from sklearn.metrics import mean_squared_error, r2_score\n",
    "import matplotlib.pyplot as plt"
   ]
  },
  {
   "cell_type": "code",
   "execution_count": 3,
   "metadata": {},
   "outputs": [
    {
     "data": {
      "text/plain": "    Date  Subscribers\n0      1        71915\n1      2        48270\n2      3        47746\n3      4        42276\n4      5        36867\n5      6        28722\n6      7        29794\n7      8        33125\n8      9        27877\n9     10        30675\n10    11        32450\n11    12        45714\n12    13        59377\n13    14        42289\n14    15        36002",
      "text/html": "<div>\n<style scoped>\n    .dataframe tbody tr th:only-of-type {\n        vertical-align: middle;\n    }\n\n    .dataframe tbody tr th {\n        vertical-align: top;\n    }\n\n    .dataframe thead th {\n        text-align: right;\n    }\n</style>\n<table border=\"1\" class=\"dataframe\">\n  <thead>\n    <tr style=\"text-align: right;\">\n      <th></th>\n      <th>Date</th>\n      <th>Subscribers</th>\n    </tr>\n  </thead>\n  <tbody>\n    <tr>\n      <th>0</th>\n      <td>1</td>\n      <td>71915</td>\n    </tr>\n    <tr>\n      <th>1</th>\n      <td>2</td>\n      <td>48270</td>\n    </tr>\n    <tr>\n      <th>2</th>\n      <td>3</td>\n      <td>47746</td>\n    </tr>\n    <tr>\n      <th>3</th>\n      <td>4</td>\n      <td>42276</td>\n    </tr>\n    <tr>\n      <th>4</th>\n      <td>5</td>\n      <td>36867</td>\n    </tr>\n    <tr>\n      <th>5</th>\n      <td>6</td>\n      <td>28722</td>\n    </tr>\n    <tr>\n      <th>6</th>\n      <td>7</td>\n      <td>29794</td>\n    </tr>\n    <tr>\n      <th>7</th>\n      <td>8</td>\n      <td>33125</td>\n    </tr>\n    <tr>\n      <th>8</th>\n      <td>9</td>\n      <td>27877</td>\n    </tr>\n    <tr>\n      <th>9</th>\n      <td>10</td>\n      <td>30675</td>\n    </tr>\n    <tr>\n      <th>10</th>\n      <td>11</td>\n      <td>32450</td>\n    </tr>\n    <tr>\n      <th>11</th>\n      <td>12</td>\n      <td>45714</td>\n    </tr>\n    <tr>\n      <th>12</th>\n      <td>13</td>\n      <td>59377</td>\n    </tr>\n    <tr>\n      <th>13</th>\n      <td>14</td>\n      <td>42289</td>\n    </tr>\n    <tr>\n      <th>14</th>\n      <td>15</td>\n      <td>36002</td>\n    </tr>\n  </tbody>\n</table>\n</div>"
     },
     "execution_count": 3,
     "metadata": {},
     "output_type": "execute_result"
    }
   ],
   "source": [
    "# Storing the data in a pandas data frame.\n",
    "\n",
    "df = pd.read_csv(\"data/PewDiePie.csv\")\n",
    "df.head(15)"
   ]
  },
  {
   "cell_type": "code",
   "execution_count": 4,
   "metadata": {},
   "outputs": [
    {
     "name": "stdout",
     "output_type": "stream",
     "text": [
      "    Date\n",
      "0      1\n",
      "1      2\n",
      "2      3\n",
      "3      4\n",
      "4      5\n",
      "5      6\n",
      "6      7\n",
      "7      8\n",
      "8      9\n",
      "9     10\n",
      "10    11\n",
      "11    12\n",
      "12    13\n",
      "13    14\n",
      "14    15\n",
      "15    16\n",
      "16    17\n",
      "17    18\n",
      "18    19\n",
      "19    20\n",
      "0     71915\n",
      "1     48270\n",
      "2     47746\n",
      "3     42276\n",
      "4     36867\n",
      "5     28722\n",
      "6     29794\n",
      "7     33125\n",
      "8     27877\n",
      "9     30675\n",
      "10    32450\n",
      "11    45714\n",
      "12    59377\n",
      "13    42289\n",
      "14    36002\n",
      "15    25872\n",
      "16    31623\n",
      "17    46504\n",
      "18    49421\n",
      "19    27844\n",
      "Name: Subscribers, dtype: int64\n"
     ]
    }
   ],
   "source": [
    "x = df.iloc[:, 0]\n",
    "x_df = pd.DataFrame(x)\n",
    "y = df.iloc[:, 1]\n",
    "print(x_df)\n",
    "print(y)"
   ]
  },
  {
   "cell_type": "code",
   "execution_count": 5,
   "metadata": {},
   "outputs": [
    {
     "name": "stdout",
     "output_type": "stream",
     "text": [
      "    Date\n",
      "18    19\n",
      "1      2\n",
      "19    20\n",
      "8      9\n",
      "10    11\n",
      "17    18\n",
      "6      7\n",
      "13    14\n",
      "4      5\n",
      "2      3\n",
      "18    49421\n",
      "1     48270\n",
      "19    27844\n",
      "8     27877\n",
      "10    32450\n",
      "17    46504\n",
      "6     29794\n",
      "13    42289\n",
      "4     36867\n",
      "2     47746\n",
      "Name: Subscribers, dtype: int64\n",
      "    Date\n",
      "5      6\n",
      "14    15\n",
      "9     10\n",
      "7      8\n",
      "16    17\n",
      "11    12\n",
      "3      4\n",
      "0      1\n",
      "15    16\n",
      "12    13\n",
      "5     28722\n",
      "14    36002\n",
      "9     30675\n",
      "7     33125\n",
      "16    31623\n",
      "11    45714\n",
      "3     42276\n",
      "0     71915\n",
      "15    25872\n",
      "12    59377\n",
      "Name: Subscribers, dtype: int64\n"
     ]
    },
    {
     "data": {
      "text/plain": "   Date  Subscribers\n0     1        71915\n1     2        48270\n2     3        47746\n3     4        42276\n4     5        36867\n5     6        28722\n6     7        29794\n7     8        33125\n8     9        27877\n9    10        30675",
      "text/html": "<div>\n<style scoped>\n    .dataframe tbody tr th:only-of-type {\n        vertical-align: middle;\n    }\n\n    .dataframe tbody tr th {\n        vertical-align: top;\n    }\n\n    .dataframe thead th {\n        text-align: right;\n    }\n</style>\n<table border=\"1\" class=\"dataframe\">\n  <thead>\n    <tr style=\"text-align: right;\">\n      <th></th>\n      <th>Date</th>\n      <th>Subscribers</th>\n    </tr>\n  </thead>\n  <tbody>\n    <tr>\n      <th>0</th>\n      <td>1</td>\n      <td>71915</td>\n    </tr>\n    <tr>\n      <th>1</th>\n      <td>2</td>\n      <td>48270</td>\n    </tr>\n    <tr>\n      <th>2</th>\n      <td>3</td>\n      <td>47746</td>\n    </tr>\n    <tr>\n      <th>3</th>\n      <td>4</td>\n      <td>42276</td>\n    </tr>\n    <tr>\n      <th>4</th>\n      <td>5</td>\n      <td>36867</td>\n    </tr>\n    <tr>\n      <th>5</th>\n      <td>6</td>\n      <td>28722</td>\n    </tr>\n    <tr>\n      <th>6</th>\n      <td>7</td>\n      <td>29794</td>\n    </tr>\n    <tr>\n      <th>7</th>\n      <td>8</td>\n      <td>33125</td>\n    </tr>\n    <tr>\n      <th>8</th>\n      <td>9</td>\n      <td>27877</td>\n    </tr>\n    <tr>\n      <th>9</th>\n      <td>10</td>\n      <td>30675</td>\n    </tr>\n  </tbody>\n</table>\n</div>"
     },
     "execution_count": 5,
     "metadata": {},
     "output_type": "execute_result"
    }
   ],
   "source": [
    "x_train, x_test, y_train, y_test = train_test_split(x_df, y, test_size = 0.5, random_state = 0)\n",
    "print(x_test)\n",
    "print(y_test)\n",
    "print(x_train)\n",
    "print(y_train)\n",
    "df.head(10)"
   ]
  },
  {
   "cell_type": "code",
   "execution_count": 6,
   "metadata": {
    "collapsed": false,
    "jupyter": {
     "outputs_hidden": false
    },
    "pycharm": {
     "name": "#%%\n"
    }
   },
   "outputs": [
    {
     "data": {
      "text/plain": "LinearRegression()"
     },
     "execution_count": 6,
     "metadata": {},
     "output_type": "execute_result"
    }
   ],
   "source": [
    "# training a simple linear regression model\n",
    "simpleLinearRegression = LinearRegression()\n",
    "simpleLinearRegression.fit(x_train, y_train)"
   ]
  },
  {
   "cell_type": "code",
   "execution_count": 7,
   "metadata": {
    "collapsed": false,
    "jupyter": {
     "outputs_hidden": false
    },
    "pycharm": {
     "name": "#%%\n"
    }
   },
   "outputs": [
    {
     "data": {
      "text/plain": "    X Test     Y Predict  Y Real\n18      19  29108.838983   49421\n1        2  51172.638675   48270\n19      20  27810.968413   27844\n8        9  42087.544684   27877\n10      11  39491.803544   32450\n17      18  30406.709553   46504\n6        7  44683.285824   29794\n13      14  35598.191834   42289\n4        5  47279.026965   36867\n2        3  49874.768105   47746",
      "text/html": "<div>\n<style scoped>\n    .dataframe tbody tr th:only-of-type {\n        vertical-align: middle;\n    }\n\n    .dataframe tbody tr th {\n        vertical-align: top;\n    }\n\n    .dataframe thead th {\n        text-align: right;\n    }\n</style>\n<table border=\"1\" class=\"dataframe\">\n  <thead>\n    <tr style=\"text-align: right;\">\n      <th></th>\n      <th>X Test</th>\n      <th>Y Predict</th>\n      <th>Y Real</th>\n    </tr>\n  </thead>\n  <tbody>\n    <tr>\n      <th>18</th>\n      <td>19</td>\n      <td>29108.838983</td>\n      <td>49421</td>\n    </tr>\n    <tr>\n      <th>1</th>\n      <td>2</td>\n      <td>51172.638675</td>\n      <td>48270</td>\n    </tr>\n    <tr>\n      <th>19</th>\n      <td>20</td>\n      <td>27810.968413</td>\n      <td>27844</td>\n    </tr>\n    <tr>\n      <th>8</th>\n      <td>9</td>\n      <td>42087.544684</td>\n      <td>27877</td>\n    </tr>\n    <tr>\n      <th>10</th>\n      <td>11</td>\n      <td>39491.803544</td>\n      <td>32450</td>\n    </tr>\n    <tr>\n      <th>17</th>\n      <td>18</td>\n      <td>30406.709553</td>\n      <td>46504</td>\n    </tr>\n    <tr>\n      <th>6</th>\n      <td>7</td>\n      <td>44683.285824</td>\n      <td>29794</td>\n    </tr>\n    <tr>\n      <th>13</th>\n      <td>14</td>\n      <td>35598.191834</td>\n      <td>42289</td>\n    </tr>\n    <tr>\n      <th>4</th>\n      <td>5</td>\n      <td>47279.026965</td>\n      <td>36867</td>\n    </tr>\n    <tr>\n      <th>2</th>\n      <td>3</td>\n      <td>49874.768105</td>\n      <td>47746</td>\n    </tr>\n  </tbody>\n</table>\n</div>"
     },
     "execution_count": 7,
     "metadata": {},
     "output_type": "execute_result"
    }
   ],
   "source": [
    "# test trained model\n",
    "y_predict = simpleLinearRegression.predict(x_test)\n",
    "x_test_series = x_test.iloc[:,0]\n",
    "predict = pd.DataFrame({'X Test': x_test_series, 'Y Predict': y_predict, 'Y Real': y_test})\n",
    "predict.head(10)"
   ]
  },
  {
   "cell_type": "code",
   "execution_count": 8,
   "metadata": {},
   "outputs": [
    {
     "name": "stdout",
     "output_type": "stream",
     "text": [
      "Slope: [-1297.87057011]\n",
      "Intercept: 53768.379815100154\n",
      "Variance score: -0.824863779325318\n",
      "Root mean squared error:  131105933.00752287\n",
      "R2 score:  -0.824863779325318\n"
     ]
    }
   ],
   "source": [
    "# model evaluation\n",
    "rmse = mean_squared_error(y_test, y_predict)\n",
    "r2 = r2_score(y_test, y_predict)\n",
    "\n",
    "# printing values\n",
    "print('Slope:' ,simpleLinearRegression.coef_)\n",
    "print('Intercept:', simpleLinearRegression.intercept_)\n",
    "print('Variance score: {}'.format(simpleLinearRegression.score(x_test, y_test)))\n",
    "print('Root mean squared error: ', rmse)\n",
    "print('R2 score: ', r2)"
   ]
  },
  {
   "cell_type": "code",
   "execution_count": 9,
   "metadata": {
    "collapsed": false,
    "jupyter": {
     "outputs_hidden": false
    },
    "pycharm": {
     "name": "#%%\n"
    }
   },
   "outputs": [
    {
     "data": {
      "text/plain": "<Figure size 432x288 with 1 Axes>",
      "image/png": "[encoded data removed]"
     },
     "metadata": {
      "needs_background": "light"
     },
     "output_type": "display_data"
    }
   ],
   "source": [
    "# plotting values\n",
    "\n",
    "# data points\n",
    "plt.bar(x_test_series, y_predict, label=\"Y Predicted\", color=[1,0,0, 0.5])\n",
    "plt.bar(x_test_series, y_test, label=\"Y Real\", color=[0,1,0, 0.5])\n",
    "plt.plot()\n",
    "\n",
    "plt.plot(x_test_series, y_predict, color='r')\n",
    "\n",
    "plt.xlabel(\"X axis\")\n",
    "plt.ylabel(\"Y axis\")\n",
    "plt.title(\"Number of New Visitors\")\n",
    "plt.legend()\n",
    "plt.show()"
   ]
  }
 ],
 "metadata": {
  "kernelspec": {
   "display_name": "Python 3",
   "language": "python",
   "name": "python3"
  },
  "language_info": {
   "codemirror_mode": {
    "name": "ipython",
    "version": 3
   },
   "file_extension": ".py",
   "mimetype": "text/x-python",
   "name": "python",
   "nbconvert_exporter": "python",
   "pygments_lexer": "ipython3",
   "version": "3.9.0"
  }
 },
 "nbformat": 4,
 "nbformat_minor": 4
}