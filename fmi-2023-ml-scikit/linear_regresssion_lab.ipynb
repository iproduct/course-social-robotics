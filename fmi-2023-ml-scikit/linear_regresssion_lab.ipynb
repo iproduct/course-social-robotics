{
 "cells": [
  {
   "cell_type": "code",
<<<<<<< HEAD
   "execution_count": 258,
   "metadata": {},
=======
   "execution_count": 38,
   "metadata": {
    "collapsed": true
   },
>>>>>>> 2f43b30931e52bd79121dfdbd6b6af50c1cc28c0
   "outputs": [],
   "source": [
    "import numpy as np\n",
    "import pandas as pd\n",
    "import matplotlib.pyplot as plt\n",
    "import seaborn as sns\n",
    "from sklearn.model_selection import train_test_split\n",
    "from sklearn.linear_model import LogisticRegression\n",
    "from sklearn.metrics import classification_report\n",
    "from sklearn import neighbors\n",
    "from sklearn.ensemble import RandomForestClassifier\n",
    "from matplotlib.colors import ListedColormap\n",
    "from sklearn import svm\n",
    "import random\n",
    "\n",
    "plt.ion()\n",
    "pd.options.plotting.backend = 'plotly'"
   ]
  },
  {
   "cell_type": "code",
<<<<<<< HEAD
   "execution_count": 259,
=======
   "execution_count": 39,
>>>>>>> 2f43b30931e52bd79121dfdbd6b6af50c1cc28c0
   "metadata": {
    "pycharm": {
     "name": "#%%\n"
    }
   },
   "outputs": [
    {
     "name": "stdout",
     "output_type": "stream",
     "text": [
      "Total records: 891\n"
     ]
    },
    {
     "data": {
      "text/plain": "    PassengerId  Survived  Pclass  \\\n0             1         0       3   \n1             2         1       1   \n2             3         1       3   \n3             4         1       1   \n4             5         0       3   \n5             6         0       3   \n6             7         0       1   \n7             8         0       3   \n8             9         1       3   \n9            10         1       2   \n10           11         1       3   \n11           12         1       1   \n12           13         0       3   \n13           14         0       3   \n14           15         0       3   \n15           16         1       2   \n16           17         0       3   \n17           18         1       2   \n18           19         0       3   \n19           20         1       3   \n\n                                                 Name     Sex   Age  SibSp  \\\n0                             Braund, Mr. Owen Harris    male  22.0      1   \n1   Cumings, Mrs. John Bradley (Florence Briggs Th...  female  38.0      1   \n2                              Heikkinen, Miss. Laina  female  26.0      0   \n3        Futrelle, Mrs. Jacques Heath (Lily May Peel)  female  35.0      1   \n4                            Allen, Mr. William Henry    male  35.0      0   \n5                                    Moran, Mr. James    male   NaN      0   \n6                             McCarthy, Mr. Timothy J    male  54.0      0   \n7                      Palsson, Master. Gosta Leonard    male   2.0      3   \n8   Johnson, Mrs. Oscar W (Elisabeth Vilhelmina Berg)  female  27.0      0   \n9                 Nasser, Mrs. Nicholas (Adele Achem)  female  14.0      1   \n10                    Sandstrom, Miss. Marguerite Rut  female   4.0      1   \n11                           Bonnell, Miss. Elizabeth  female  58.0      0   \n12                     Saundercock, Mr. William Henry    male  20.0      0   \n13                        Andersson, Mr. Anders Johan    male  39.0      1   \n14               Vestrom, Miss. Hulda Amanda Adolfina  female  14.0      0   \n15                   Hewlett, Mrs. (Mary D Kingcome)   female  55.0      0   \n16                               Rice, Master. Eugene    male   2.0      4   \n17                       Williams, Mr. Charles Eugene    male   NaN      0   \n18  Vander Planke, Mrs. Julius (Emelia Maria Vande...  female  31.0      1   \n19                            Masselmani, Mrs. Fatima  female   NaN      0   \n\n    Parch            Ticket     Fare Cabin Embarked  \n0       0         A/5 21171   7.2500   NaN        S  \n1       0          PC 17599  71.2833   C85        C  \n2       0  STON/O2. 3101282   7.9250   NaN        S  \n3       0            113803  53.1000  C123        S  \n4       0            373450   8.0500   NaN        S  \n5       0            330877   8.4583   NaN        Q  \n6       0             17463  51.8625   E46        S  \n7       1            349909  21.0750   NaN        S  \n8       2            347742  11.1333   NaN        S  \n9       0            237736  30.0708   NaN        C  \n10      1           PP 9549  16.7000    G6        S  \n11      0            113783  26.5500  C103        S  \n12      0         A/5. 2151   8.0500   NaN        S  \n13      5            347082  31.2750   NaN        S  \n14      0            350406   7.8542   NaN        S  \n15      0            248706  16.0000   NaN        S  \n16      1            382652  29.1250   NaN        Q  \n17      0            244373  13.0000   NaN        S  \n18      0            345763  18.0000   NaN        S  \n19      0              2649   7.2250   NaN        C  ",
      "text/html": "<div>\n<style scoped>\n    .dataframe tbody tr th:only-of-type {\n        vertical-align: middle;\n    }\n\n    .dataframe tbody tr th {\n        vertical-align: top;\n    }\n\n    .dataframe thead th {\n        text-align: right;\n    }\n</style>\n<table border=\"1\" class=\"dataframe\">\n  <thead>\n    <tr style=\"text-align: right;\">\n      <th></th>\n      <th>PassengerId</th>\n      <th>Survived</th>\n      <th>Pclass</th>\n      <th>Name</th>\n      <th>Sex</th>\n      <th>Age</th>\n      <th>SibSp</th>\n      <th>Parch</th>\n      <th>Ticket</th>\n      <th>Fare</th>\n      <th>Cabin</th>\n      <th>Embarked</th>\n    </tr>\n  </thead>\n  <tbody>\n    <tr>\n      <th>0</th>\n      <td>1</td>\n      <td>0</td>\n      <td>3</td>\n      <td>Braund, Mr. Owen Harris</td>\n      <td>male</td>\n      <td>22.0</td>\n      <td>1</td>\n      <td>0</td>\n      <td>A/5 21171</td>\n      <td>7.2500</td>\n      <td>NaN</td>\n      <td>S</td>\n    </tr>\n    <tr>\n      <th>1</th>\n      <td>2</td>\n      <td>1</td>\n      <td>1</td>\n      <td>Cumings, Mrs. John Bradley (Florence Briggs Th...</td>\n      <td>female</td>\n      <td>38.0</td>\n      <td>1</td>\n      <td>0</td>\n      <td>PC 17599</td>\n      <td>71.2833</td>\n      <td>C85</td>\n      <td>C</td>\n    </tr>\n    <tr>\n      <th>2</th>\n      <td>3</td>\n      <td>1</td>\n      <td>3</td>\n      <td>Heikkinen, Miss. Laina</td>\n      <td>female</td>\n      <td>26.0</td>\n      <td>0</td>\n      <td>0</td>\n      <td>STON/O2. 3101282</td>\n      <td>7.9250</td>\n      <td>NaN</td>\n      <td>S</td>\n    </tr>\n    <tr>\n      <th>3</th>\n      <td>4</td>\n      <td>1</td>\n      <td>1</td>\n      <td>Futrelle, Mrs. Jacques Heath (Lily May Peel)</td>\n      <td>female</td>\n      <td>35.0</td>\n      <td>1</td>\n      <td>0</td>\n      <td>113803</td>\n      <td>53.1000</td>\n      <td>C123</td>\n      <td>S</td>\n    </tr>\n    <tr>\n      <th>4</th>\n      <td>5</td>\n      <td>0</td>\n      <td>3</td>\n      <td>Allen, Mr. William Henry</td>\n      <td>male</td>\n      <td>35.0</td>\n      <td>0</td>\n      <td>0</td>\n      <td>373450</td>\n      <td>8.0500</td>\n      <td>NaN</td>\n      <td>S</td>\n    </tr>\n    <tr>\n      <th>5</th>\n      <td>6</td>\n      <td>0</td>\n      <td>3</td>\n      <td>Moran, Mr. James</td>\n      <td>male</td>\n      <td>NaN</td>\n      <td>0</td>\n      <td>0</td>\n      <td>330877</td>\n      <td>8.4583</td>\n      <td>NaN</td>\n      <td>Q</td>\n    </tr>\n    <tr>\n      <th>6</th>\n      <td>7</td>\n      <td>0</td>\n      <td>1</td>\n      <td>McCarthy, Mr. Timothy J</td>\n      <td>male</td>\n      <td>54.0</td>\n      <td>0</td>\n      <td>0</td>\n      <td>17463</td>\n      <td>51.8625</td>\n      <td>E46</td>\n      <td>S</td>\n    </tr>\n    <tr>\n      <th>7</th>\n      <td>8</td>\n      <td>0</td>\n      <td>3</td>\n      <td>Palsson, Master. Gosta Leonard</td>\n      <td>male</td>\n      <td>2.0</td>\n      <td>3</td>\n      <td>1</td>\n      <td>349909</td>\n      <td>21.0750</td>\n      <td>NaN</td>\n      <td>S</td>\n    </tr>\n    <tr>\n      <th>8</th>\n      <td>9</td>\n      <td>1</td>\n      <td>3</td>\n      <td>Johnson, Mrs. Oscar W (Elisabeth Vilhelmina Berg)</td>\n      <td>female</td>\n      <td>27.0</td>\n      <td>0</td>\n      <td>2</td>\n      <td>347742</td>\n      <td>11.1333</td>\n      <td>NaN</td>\n      <td>S</td>\n    </tr>\n    <tr>\n      <th>9</th>\n      <td>10</td>\n      <td>1</td>\n      <td>2</td>\n      <td>Nasser, Mrs. Nicholas (Adele Achem)</td>\n      <td>female</td>\n      <td>14.0</td>\n      <td>1</td>\n      <td>0</td>\n      <td>237736</td>\n      <td>30.0708</td>\n      <td>NaN</td>\n      <td>C</td>\n    </tr>\n    <tr>\n      <th>10</th>\n      <td>11</td>\n      <td>1</td>\n      <td>3</td>\n      <td>Sandstrom, Miss. Marguerite Rut</td>\n      <td>female</td>\n      <td>4.0</td>\n      <td>1</td>\n      <td>1</td>\n      <td>PP 9549</td>\n      <td>16.7000</td>\n      <td>G6</td>\n      <td>S</td>\n    </tr>\n    <tr>\n      <th>11</th>\n      <td>12</td>\n      <td>1</td>\n      <td>1</td>\n      <td>Bonnell, Miss. Elizabeth</td>\n      <td>female</td>\n      <td>58.0</td>\n      <td>0</td>\n      <td>0</td>\n      <td>113783</td>\n      <td>26.5500</td>\n      <td>C103</td>\n      <td>S</td>\n    </tr>\n    <tr>\n      <th>12</th>\n      <td>13</td>\n      <td>0</td>\n      <td>3</td>\n      <td>Saundercock, Mr. William Henry</td>\n      <td>male</td>\n      <td>20.0</td>\n      <td>0</td>\n      <td>0</td>\n      <td>A/5. 2151</td>\n      <td>8.0500</td>\n      <td>NaN</td>\n      <td>S</td>\n    </tr>\n    <tr>\n      <th>13</th>\n      <td>14</td>\n      <td>0</td>\n      <td>3</td>\n      <td>Andersson, Mr. Anders Johan</td>\n      <td>male</td>\n      <td>39.0</td>\n      <td>1</td>\n      <td>5</td>\n      <td>347082</td>\n      <td>31.2750</td>\n      <td>NaN</td>\n      <td>S</td>\n    </tr>\n    <tr>\n      <th>14</th>\n      <td>15</td>\n      <td>0</td>\n      <td>3</td>\n      <td>Vestrom, Miss. Hulda Amanda Adolfina</td>\n      <td>female</td>\n      <td>14.0</td>\n      <td>0</td>\n      <td>0</td>\n      <td>350406</td>\n      <td>7.8542</td>\n      <td>NaN</td>\n      <td>S</td>\n    </tr>\n    <tr>\n      <th>15</th>\n      <td>16</td>\n      <td>1</td>\n      <td>2</td>\n      <td>Hewlett, Mrs. (Mary D Kingcome)</td>\n      <td>female</td>\n      <td>55.0</td>\n      <td>0</td>\n      <td>0</td>\n      <td>248706</td>\n      <td>16.0000</td>\n      <td>NaN</td>\n      <td>S</td>\n    </tr>\n    <tr>\n      <th>16</th>\n      <td>17</td>\n      <td>0</td>\n      <td>3</td>\n      <td>Rice, Master. Eugene</td>\n      <td>male</td>\n      <td>2.0</td>\n      <td>4</td>\n      <td>1</td>\n      <td>382652</td>\n      <td>29.1250</td>\n      <td>NaN</td>\n      <td>Q</td>\n    </tr>\n    <tr>\n      <th>17</th>\n      <td>18</td>\n      <td>1</td>\n      <td>2</td>\n      <td>Williams, Mr. Charles Eugene</td>\n      <td>male</td>\n      <td>NaN</td>\n      <td>0</td>\n      <td>0</td>\n      <td>244373</td>\n      <td>13.0000</td>\n      <td>NaN</td>\n      <td>S</td>\n    </tr>\n    <tr>\n      <th>18</th>\n      <td>19</td>\n      <td>0</td>\n      <td>3</td>\n      <td>Vander Planke, Mrs. Julius (Emelia Maria Vande...</td>\n      <td>female</td>\n      <td>31.0</td>\n      <td>1</td>\n      <td>0</td>\n      <td>345763</td>\n      <td>18.0000</td>\n      <td>NaN</td>\n      <td>S</td>\n    </tr>\n    <tr>\n      <th>19</th>\n      <td>20</td>\n      <td>1</td>\n      <td>3</td>\n      <td>Masselmani, Mrs. Fatima</td>\n      <td>female</td>\n      <td>NaN</td>\n      <td>0</td>\n      <td>0</td>\n      <td>2649</td>\n      <td>7.2250</td>\n      <td>NaN</td>\n      <td>C</td>\n    </tr>\n  </tbody>\n</table>\n</div>"
     },
<<<<<<< HEAD
     "execution_count": 259,
=======
     "execution_count": 39,
>>>>>>> 2f43b30931e52bd79121dfdbd6b6af50c1cc28c0
     "metadata": {},
     "output_type": "execute_result"
    }
   ],
   "source": [
    "train = pd.read_csv('data/train.csv')\n",
    "print(f'Total records: {train.shape[0]}')\n",
    "train.head(20)"
   ]
  },
  {
   "cell_type": "code",
<<<<<<< HEAD
   "execution_count": 260,
=======
   "execution_count": 40,
>>>>>>> 2f43b30931e52bd79121dfdbd6b6af50c1cc28c0
   "metadata": {
    "pycharm": {
     "name": "#%%\n"
    }
   },
   "outputs": [
    {
     "data": {
      "text/plain": "<AxesSubplot:>"
     },
<<<<<<< HEAD
     "execution_count": 260,
=======
     "execution_count": 40,
>>>>>>> 2f43b30931e52bd79121dfdbd6b6af50c1cc28c0
     "metadata": {},
     "output_type": "execute_result"
    },
    {
     "data": {
      "text/plain": "<Figure size 432x288 with 1 Axes>",
      "image/png": "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\n"
     },
     "metadata": {
      "needs_background": "light"
     },
     "output_type": "display_data"
    }
   ],
   "source": [
    "missing_values = train.isnull()\n",
    "sns.heatmap(data=missing_values, yticklabels=False, cbar=False, cmap='viridis')"
   ]
  },
  {
   "cell_type": "code",
<<<<<<< HEAD
   "execution_count": 261,
=======
   "execution_count": 41,
>>>>>>> 2f43b30931e52bd79121dfdbd6b6af50c1cc28c0
   "metadata": {
    "pycharm": {
     "name": "#%%\n"
    }
   },
   "outputs": [
    {
     "data": {
      "text/plain": "<AxesSubplot:xlabel='Survived', ylabel='count'>"
     },
<<<<<<< HEAD
     "execution_count": 261,
=======
     "execution_count": 41,
>>>>>>> 2f43b30931e52bd79121dfdbd6b6af50c1cc28c0
     "metadata": {},
     "output_type": "execute_result"
    },
    {
     "data": {
      "text/plain": "<Figure size 432x288 with 1 Axes>",
      "image/png": "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\n"
     },
     "metadata": {
      "needs_background": "light"
     },
     "output_type": "display_data"
    }
   ],
   "source": [
    "sns.countplot(x='Survived', data=train)\n"
   ]
  },
  {
   "cell_type": "code",
<<<<<<< HEAD
   "execution_count": 262,
=======
   "execution_count": 42,
>>>>>>> 2f43b30931e52bd79121dfdbd6b6af50c1cc28c0
   "metadata": {
    "pycharm": {
     "name": "#%%\n"
    }
   },
   "outputs": [
    {
     "data": {
      "text/plain": "<AxesSubplot:xlabel='Survived', ylabel='count'>"
     },
<<<<<<< HEAD
     "execution_count": 262,
=======
     "execution_count": 42,
>>>>>>> 2f43b30931e52bd79121dfdbd6b6af50c1cc28c0
     "metadata": {},
     "output_type": "execute_result"
    },
    {
     "data": {
      "text/plain": "<Figure size 432x288 with 1 Axes>",
      "image/png": "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\n"
     },
     "metadata": {
      "needs_background": "light"
     },
     "output_type": "display_data"
    }
   ],
   "source": [
    "sns.countplot(x='Survived', data=train, hue='Pclass')"
   ]
  },
  {
   "cell_type": "code",
<<<<<<< HEAD
   "execution_count": 263,
   "metadata": {
    "pycharm": {
     "name": "#%%\n"
    }
   },
=======
   "execution_count": 43,
>>>>>>> 2f43b30931e52bd79121dfdbd6b6af50c1cc28c0
   "outputs": [
    {
     "data": {
      "text/plain": "<AxesSubplot:xlabel='Pclass', ylabel='Age'>"
     },
<<<<<<< HEAD
     "execution_count": 263,
=======
     "execution_count": 43,
>>>>>>> 2f43b30931e52bd79121dfdbd6b6af50c1cc28c0
     "metadata": {},
     "output_type": "execute_result"
    },
    {
     "data": {
      "text/plain": "<Figure size 432x288 with 1 Axes>",
      "image/png": "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\n"
     },
     "metadata": {
      "needs_background": "light"
     },
     "output_type": "display_data"
    }
   ],
   "source": [
    "sns.boxplot(x='Pclass', y='Age', data=train)"
<<<<<<< HEAD
   ]
  },
  {
   "cell_type": "code",
   "execution_count": 264,
=======
   ],
   "metadata": {
    "collapsed": false,
    "pycharm": {
     "name": "#%%\n"
    }
   }
  },
  {
   "cell_type": "code",
   "execution_count": 44,
>>>>>>> 2f43b30931e52bd79121dfdbd6b6af50c1cc28c0
   "metadata": {
    "pycharm": {
     "name": "#%%\n"
    }
   },
   "outputs": [
    {
     "data": {
      "text/plain": "    PassengerId  Survived  Pclass  \\\n0             1         0       3   \n1             2         1       1   \n2             3         1       3   \n3             4         1       1   \n4             5         0       3   \n5             6         0       3   \n6             7         0       1   \n7             8         0       3   \n8             9         1       3   \n9            10         1       2   \n10           11         1       3   \n11           12         1       1   \n12           13         0       3   \n13           14         0       3   \n14           15         0       3   \n15           16         1       2   \n16           17         0       3   \n17           18         1       2   \n18           19         0       3   \n19           20         1       3   \n\n                                                 Name     Sex   Age  SibSp  \\\n0                             Braund, Mr. Owen Harris    male  22.0      1   \n1   Cumings, Mrs. John Bradley (Florence Briggs Th...  female  38.0      1   \n2                              Heikkinen, Miss. Laina  female  26.0      0   \n3        Futrelle, Mrs. Jacques Heath (Lily May Peel)  female  35.0      1   \n4                            Allen, Mr. William Henry    male  35.0      0   \n5                                    Moran, Mr. James    male  28.0      0   \n6                             McCarthy, Mr. Timothy J    male  54.0      0   \n7                      Palsson, Master. Gosta Leonard    male   2.0      3   \n8   Johnson, Mrs. Oscar W (Elisabeth Vilhelmina Berg)  female  27.0      0   \n9                 Nasser, Mrs. Nicholas (Adele Achem)  female  14.0      1   \n10                    Sandstrom, Miss. Marguerite Rut  female   4.0      1   \n11                           Bonnell, Miss. Elizabeth  female  58.0      0   \n12                     Saundercock, Mr. William Henry    male  20.0      0   \n13                        Andersson, Mr. Anders Johan    male  39.0      1   \n14               Vestrom, Miss. Hulda Amanda Adolfina  female  14.0      0   \n15                   Hewlett, Mrs. (Mary D Kingcome)   female  55.0      0   \n16                               Rice, Master. Eugene    male   2.0      4   \n17                       Williams, Mr. Charles Eugene    male  28.0      0   \n18  Vander Planke, Mrs. Julius (Emelia Maria Vande...  female  31.0      1   \n19                            Masselmani, Mrs. Fatima  female  28.0      0   \n\n    Parch            Ticket     Fare Cabin Embarked  \n0       0         A/5 21171   7.2500   NaN        S  \n1       0          PC 17599  71.2833   C85        C  \n2       0  STON/O2. 3101282   7.9250   NaN        S  \n3       0            113803  53.1000  C123        S  \n4       0            373450   8.0500   NaN        S  \n5       0            330877   8.4583   NaN        Q  \n6       0             17463  51.8625   E46        S  \n7       1            349909  21.0750   NaN        S  \n8       2            347742  11.1333   NaN        S  \n9       0            237736  30.0708   NaN        C  \n10      1           PP 9549  16.7000    G6        S  \n11      0            113783  26.5500  C103        S  \n12      0         A/5. 2151   8.0500   NaN        S  \n13      5            347082  31.2750   NaN        S  \n14      0            350406   7.8542   NaN        S  \n15      0            248706  16.0000   NaN        S  \n16      1            382652  29.1250   NaN        Q  \n17      0            244373  13.0000   NaN        S  \n18      0            345763  18.0000   NaN        S  \n19      0              2649   7.2250   NaN        C  ",
      "text/html": "<div>\n<style scoped>\n    .dataframe tbody tr th:only-of-type {\n        vertical-align: middle;\n    }\n\n    .dataframe tbody tr th {\n        vertical-align: top;\n    }\n\n    .dataframe thead th {\n        text-align: right;\n    }\n</style>\n<table border=\"1\" class=\"dataframe\">\n  <thead>\n    <tr style=\"text-align: right;\">\n      <th></th>\n      <th>PassengerId</th>\n      <th>Survived</th>\n      <th>Pclass</th>\n      <th>Name</th>\n      <th>Sex</th>\n      <th>Age</th>\n      <th>SibSp</th>\n      <th>Parch</th>\n      <th>Ticket</th>\n      <th>Fare</th>\n      <th>Cabin</th>\n      <th>Embarked</th>\n    </tr>\n  </thead>\n  <tbody>\n    <tr>\n      <th>0</th>\n      <td>1</td>\n      <td>0</td>\n      <td>3</td>\n      <td>Braund, Mr. Owen Harris</td>\n      <td>male</td>\n      <td>22.0</td>\n      <td>1</td>\n      <td>0</td>\n      <td>A/5 21171</td>\n      <td>7.2500</td>\n      <td>NaN</td>\n      <td>S</td>\n    </tr>\n    <tr>\n      <th>1</th>\n      <td>2</td>\n      <td>1</td>\n      <td>1</td>\n      <td>Cumings, Mrs. John Bradley (Florence Briggs Th...</td>\n      <td>female</td>\n      <td>38.0</td>\n      <td>1</td>\n      <td>0</td>\n      <td>PC 17599</td>\n      <td>71.2833</td>\n      <td>C85</td>\n      <td>C</td>\n    </tr>\n    <tr>\n      <th>2</th>\n      <td>3</td>\n      <td>1</td>\n      <td>3</td>\n      <td>Heikkinen, Miss. Laina</td>\n      <td>female</td>\n      <td>26.0</td>\n      <td>0</td>\n      <td>0</td>\n      <td>STON/O2. 3101282</td>\n      <td>7.9250</td>\n      <td>NaN</td>\n      <td>S</td>\n    </tr>\n    <tr>\n      <th>3</th>\n      <td>4</td>\n      <td>1</td>\n      <td>1</td>\n      <td>Futrelle, Mrs. Jacques Heath (Lily May Peel)</td>\n      <td>female</td>\n      <td>35.0</td>\n      <td>1</td>\n      <td>0</td>\n      <td>113803</td>\n      <td>53.1000</td>\n      <td>C123</td>\n      <td>S</td>\n    </tr>\n    <tr>\n      <th>4</th>\n      <td>5</td>\n      <td>0</td>\n      <td>3</td>\n      <td>Allen, Mr. William Henry</td>\n      <td>male</td>\n      <td>35.0</td>\n      <td>0</td>\n      <td>0</td>\n      <td>373450</td>\n      <td>8.0500</td>\n      <td>NaN</td>\n      <td>S</td>\n    </tr>\n    <tr>\n      <th>5</th>\n      <td>6</td>\n      <td>0</td>\n      <td>3</td>\n      <td>Moran, Mr. James</td>\n      <td>male</td>\n      <td>28.0</td>\n      <td>0</td>\n      <td>0</td>\n      <td>330877</td>\n      <td>8.4583</td>\n      <td>NaN</td>\n      <td>Q</td>\n    </tr>\n    <tr>\n      <th>6</th>\n      <td>7</td>\n      <td>0</td>\n      <td>1</td>\n      <td>McCarthy, Mr. Timothy J</td>\n      <td>male</td>\n      <td>54.0</td>\n      <td>0</td>\n      <td>0</td>\n      <td>17463</td>\n      <td>51.8625</td>\n      <td>E46</td>\n      <td>S</td>\n    </tr>\n    <tr>\n      <th>7</th>\n      <td>8</td>\n      <td>0</td>\n      <td>3</td>\n      <td>Palsson, Master. Gosta Leonard</td>\n      <td>male</td>\n      <td>2.0</td>\n      <td>3</td>\n      <td>1</td>\n      <td>349909</td>\n      <td>21.0750</td>\n      <td>NaN</td>\n      <td>S</td>\n    </tr>\n    <tr>\n      <th>8</th>\n      <td>9</td>\n      <td>1</td>\n      <td>3</td>\n      <td>Johnson, Mrs. Oscar W (Elisabeth Vilhelmina Berg)</td>\n      <td>female</td>\n      <td>27.0</td>\n      <td>0</td>\n      <td>2</td>\n      <td>347742</td>\n      <td>11.1333</td>\n      <td>NaN</td>\n      <td>S</td>\n    </tr>\n    <tr>\n      <th>9</th>\n      <td>10</td>\n      <td>1</td>\n      <td>2</td>\n      <td>Nasser, Mrs. Nicholas (Adele Achem)</td>\n      <td>female</td>\n      <td>14.0</td>\n      <td>1</td>\n      <td>0</td>\n      <td>237736</td>\n      <td>30.0708</td>\n      <td>NaN</td>\n      <td>C</td>\n    </tr>\n    <tr>\n      <th>10</th>\n      <td>11</td>\n      <td>1</td>\n      <td>3</td>\n      <td>Sandstrom, Miss. Marguerite Rut</td>\n      <td>female</td>\n      <td>4.0</td>\n      <td>1</td>\n      <td>1</td>\n      <td>PP 9549</td>\n      <td>16.7000</td>\n      <td>G6</td>\n      <td>S</td>\n    </tr>\n    <tr>\n      <th>11</th>\n      <td>12</td>\n      <td>1</td>\n      <td>1</td>\n      <td>Bonnell, Miss. Elizabeth</td>\n      <td>female</td>\n      <td>58.0</td>\n      <td>0</td>\n      <td>0</td>\n      <td>113783</td>\n      <td>26.5500</td>\n      <td>C103</td>\n      <td>S</td>\n    </tr>\n    <tr>\n      <th>12</th>\n      <td>13</td>\n      <td>0</td>\n      <td>3</td>\n      <td>Saundercock, Mr. William Henry</td>\n      <td>male</td>\n      <td>20.0</td>\n      <td>0</td>\n      <td>0</td>\n      <td>A/5. 2151</td>\n      <td>8.0500</td>\n      <td>NaN</td>\n      <td>S</td>\n    </tr>\n    <tr>\n      <th>13</th>\n      <td>14</td>\n      <td>0</td>\n      <td>3</td>\n      <td>Andersson, Mr. Anders Johan</td>\n      <td>male</td>\n      <td>39.0</td>\n      <td>1</td>\n      <td>5</td>\n      <td>347082</td>\n      <td>31.2750</td>\n      <td>NaN</td>\n      <td>S</td>\n    </tr>\n    <tr>\n      <th>14</th>\n      <td>15</td>\n      <td>0</td>\n      <td>3</td>\n      <td>Vestrom, Miss. Hulda Amanda Adolfina</td>\n      <td>female</td>\n      <td>14.0</td>\n      <td>0</td>\n      <td>0</td>\n      <td>350406</td>\n      <td>7.8542</td>\n      <td>NaN</td>\n      <td>S</td>\n    </tr>\n    <tr>\n      <th>15</th>\n      <td>16</td>\n      <td>1</td>\n      <td>2</td>\n      <td>Hewlett, Mrs. (Mary D Kingcome)</td>\n      <td>female</td>\n      <td>55.0</td>\n      <td>0</td>\n      <td>0</td>\n      <td>248706</td>\n      <td>16.0000</td>\n      <td>NaN</td>\n      <td>S</td>\n    </tr>\n    <tr>\n      <th>16</th>\n      <td>17</td>\n      <td>0</td>\n      <td>3</td>\n      <td>Rice, Master. Eugene</td>\n      <td>male</td>\n      <td>2.0</td>\n      <td>4</td>\n      <td>1</td>\n      <td>382652</td>\n      <td>29.1250</td>\n      <td>NaN</td>\n      <td>Q</td>\n    </tr>\n    <tr>\n      <th>17</th>\n      <td>18</td>\n      <td>1</td>\n      <td>2</td>\n      <td>Williams, Mr. Charles Eugene</td>\n      <td>male</td>\n      <td>28.0</td>\n      <td>0</td>\n      <td>0</td>\n      <td>244373</td>\n      <td>13.0000</td>\n      <td>NaN</td>\n      <td>S</td>\n    </tr>\n    <tr>\n      <th>18</th>\n      <td>19</td>\n      <td>0</td>\n      <td>3</td>\n      <td>Vander Planke, Mrs. Julius (Emelia Maria Vande...</td>\n      <td>female</td>\n      <td>31.0</td>\n      <td>1</td>\n      <td>0</td>\n      <td>345763</td>\n      <td>18.0000</td>\n      <td>NaN</td>\n      <td>S</td>\n    </tr>\n    <tr>\n      <th>19</th>\n      <td>20</td>\n      <td>1</td>\n      <td>3</td>\n      <td>Masselmani, Mrs. Fatima</td>\n      <td>female</td>\n      <td>28.0</td>\n      <td>0</td>\n      <td>0</td>\n      <td>2649</td>\n      <td>7.2250</td>\n      <td>NaN</td>\n      <td>C</td>\n    </tr>\n  </tbody>\n</table>\n</div>"
     },
<<<<<<< HEAD
     "execution_count": 264,
=======
     "execution_count": 44,
>>>>>>> 2f43b30931e52bd79121dfdbd6b6af50c1cc28c0
     "metadata": {},
     "output_type": "execute_result"
    },
    {
     "data": {
      "text/plain": "<Figure size 432x288 with 1 Axes>",
      "image/png": "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\n"
     },
     "metadata": {
      "needs_background": "light"
     },
     "output_type": "display_data"
    }
   ],
   "source": [
    "def impute_age(cols):\n",
    "    Age = cols[0]\n",
    "    Pclass = cols[0]\n",
    "    if pd.isnull(Age):\n",
    "        if Pclass == 1:\n",
    "            return 38\n",
    "        elif Pclass == 2:\n",
    "            return 32\n",
    "        else:\n",
    "            return 28\n",
    "    else:\n",
    "        return Age\n",
    "\n",
    "train['Age'] = train[['Age', 'Pclass']].apply(impute_age, axis=1)\n",
    "missing_values = train.isnull()\n",
    "sns.heatmap(data=missing_values, yticklabels=False, cbar=False, cmap='viridis')\n",
    "train.head(20)\n"
   ]
  },
  {
   "cell_type": "code",
<<<<<<< HEAD
   "execution_count": 265,
   "metadata": {
    "pycharm": {
     "name": "#%%\n"
    }
   },
=======
   "execution_count": 45,
>>>>>>> 2f43b30931e52bd79121dfdbd6b6af50c1cc28c0
   "outputs": [
    {
     "data": {
      "text/plain": "<AxesSubplot:>"
     },
<<<<<<< HEAD
     "execution_count": 265,
=======
     "execution_count": 45,
>>>>>>> 2f43b30931e52bd79121dfdbd6b6af50c1cc28c0
     "metadata": {},
     "output_type": "execute_result"
    },
    {
     "data": {
      "text/plain": "<Figure size 432x288 with 1 Axes>",
      "image/png": "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\n"
     },
     "metadata": {
      "needs_background": "light"
     },
     "output_type": "display_data"
    }
   ],
   "source": [
    "train.drop(columns='Cabin', inplace=True)\n",
    "missing_values = train.isnull()\n",
    "sns.heatmap(data=missing_values, yticklabels=False, cbar=False, cmap='viridis')\n"
<<<<<<< HEAD
   ]
  },
  {
   "cell_type": "code",
   "execution_count": 266,
   "metadata": {
    "pycharm": {
     "name": "#%%\n"
    }
   },
=======
   ],
   "metadata": {
    "collapsed": false,
    "pycharm": {
     "name": "#%%\n"
    }
   }
  },
  {
   "cell_type": "code",
   "execution_count": 46,
>>>>>>> 2f43b30931e52bd79121dfdbd6b6af50c1cc28c0
   "outputs": [
    {
     "data": {
      "text/plain": "   PassengerId  Survived  Pclass  \\\n0            1         0       3   \n1            2         1       1   \n2            3         1       3   \n3            4         1       1   \n4            5         0       3   \n5            6         0       3   \n6            7         0       1   \n7            8         0       3   \n8            9         1       3   \n9           10         1       2   \n\n                                                Name     Sex   Age  SibSp  \\\n0                            Braund, Mr. Owen Harris    male  22.0      1   \n1  Cumings, Mrs. John Bradley (Florence Briggs Th...  female  38.0      1   \n2                             Heikkinen, Miss. Laina  female  26.0      0   \n3       Futrelle, Mrs. Jacques Heath (Lily May Peel)  female  35.0      1   \n4                           Allen, Mr. William Henry    male  35.0      0   \n5                                   Moran, Mr. James    male  28.0      0   \n6                            McCarthy, Mr. Timothy J    male  54.0      0   \n7                     Palsson, Master. Gosta Leonard    male   2.0      3   \n8  Johnson, Mrs. Oscar W (Elisabeth Vilhelmina Berg)  female  27.0      0   \n9                Nasser, Mrs. Nicholas (Adele Achem)  female  14.0      1   \n\n   Parch            Ticket     Fare Embarked  male  Q  S  \n0      0         A/5 21171   7.2500        S     1  0  1  \n1      0          PC 17599  71.2833        C     0  0  0  \n2      0  STON/O2. 3101282   7.9250        S     0  0  1  \n3      0            113803  53.1000        S     0  0  1  \n4      0            373450   8.0500        S     1  0  1  \n5      0            330877   8.4583        Q     1  1  0  \n6      0             17463  51.8625        S     1  0  1  \n7      1            349909  21.0750        S     1  0  1  \n8      2            347742  11.1333        S     0  0  1  \n9      0            237736  30.0708        C     0  0  0  ",
      "text/html": "<div>\n<style scoped>\n    .dataframe tbody tr th:only-of-type {\n        vertical-align: middle;\n    }\n\n    .dataframe tbody tr th {\n        vertical-align: top;\n    }\n\n    .dataframe thead th {\n        text-align: right;\n    }\n</style>\n<table border=\"1\" class=\"dataframe\">\n  <thead>\n    <tr style=\"text-align: right;\">\n      <th></th>\n      <th>PassengerId</th>\n      <th>Survived</th>\n      <th>Pclass</th>\n      <th>Name</th>\n      <th>Sex</th>\n      <th>Age</th>\n      <th>SibSp</th>\n      <th>Parch</th>\n      <th>Ticket</th>\n      <th>Fare</th>\n      <th>Embarked</th>\n      <th>male</th>\n      <th>Q</th>\n      <th>S</th>\n    </tr>\n  </thead>\n  <tbody>\n    <tr>\n      <th>0</th>\n      <td>1</td>\n      <td>0</td>\n      <td>3</td>\n      <td>Braund, Mr. Owen Harris</td>\n      <td>male</td>\n      <td>22.0</td>\n      <td>1</td>\n      <td>0</td>\n      <td>A/5 21171</td>\n      <td>7.2500</td>\n      <td>S</td>\n      <td>1</td>\n      <td>0</td>\n      <td>1</td>\n    </tr>\n    <tr>\n      <th>1</th>\n      <td>2</td>\n      <td>1</td>\n      <td>1</td>\n      <td>Cumings, Mrs. John Bradley (Florence Briggs Th...</td>\n      <td>female</td>\n      <td>38.0</td>\n      <td>1</td>\n      <td>0</td>\n      <td>PC 17599</td>\n      <td>71.2833</td>\n      <td>C</td>\n      <td>0</td>\n      <td>0</td>\n      <td>0</td>\n    </tr>\n    <tr>\n      <th>2</th>\n      <td>3</td>\n      <td>1</td>\n      <td>3</td>\n      <td>Heikkinen, Miss. Laina</td>\n      <td>female</td>\n      <td>26.0</td>\n      <td>0</td>\n      <td>0</td>\n      <td>STON/O2. 3101282</td>\n      <td>7.9250</td>\n      <td>S</td>\n      <td>0</td>\n      <td>0</td>\n      <td>1</td>\n    </tr>\n    <tr>\n      <th>3</th>\n      <td>4</td>\n      <td>1</td>\n      <td>1</td>\n      <td>Futrelle, Mrs. Jacques Heath (Lily May Peel)</td>\n      <td>female</td>\n      <td>35.0</td>\n      <td>1</td>\n      <td>0</td>\n      <td>113803</td>\n      <td>53.1000</td>\n      <td>S</td>\n      <td>0</td>\n      <td>0</td>\n      <td>1</td>\n    </tr>\n    <tr>\n      <th>4</th>\n      <td>5</td>\n      <td>0</td>\n      <td>3</td>\n      <td>Allen, Mr. William Henry</td>\n      <td>male</td>\n      <td>35.0</td>\n      <td>0</td>\n      <td>0</td>\n      <td>373450</td>\n      <td>8.0500</td>\n      <td>S</td>\n      <td>1</td>\n      <td>0</td>\n      <td>1</td>\n    </tr>\n    <tr>\n      <th>5</th>\n      <td>6</td>\n      <td>0</td>\n      <td>3</td>\n      <td>Moran, Mr. James</td>\n      <td>male</td>\n      <td>28.0</td>\n      <td>0</td>\n      <td>0</td>\n      <td>330877</td>\n      <td>8.4583</td>\n      <td>Q</td>\n      <td>1</td>\n      <td>1</td>\n      <td>0</td>\n    </tr>\n    <tr>\n      <th>6</th>\n      <td>7</td>\n      <td>0</td>\n      <td>1</td>\n      <td>McCarthy, Mr. Timothy J</td>\n      <td>male</td>\n      <td>54.0</td>\n      <td>0</td>\n      <td>0</td>\n      <td>17463</td>\n      <td>51.8625</td>\n      <td>S</td>\n      <td>1</td>\n      <td>0</td>\n      <td>1</td>\n    </tr>\n    <tr>\n      <th>7</th>\n      <td>8</td>\n      <td>0</td>\n      <td>3</td>\n      <td>Palsson, Master. Gosta Leonard</td>\n      <td>male</td>\n      <td>2.0</td>\n      <td>3</td>\n      <td>1</td>\n      <td>349909</td>\n      <td>21.0750</td>\n      <td>S</td>\n      <td>1</td>\n      <td>0</td>\n      <td>1</td>\n    </tr>\n    <tr>\n      <th>8</th>\n      <td>9</td>\n      <td>1</td>\n      <td>3</td>\n      <td>Johnson, Mrs. Oscar W (Elisabeth Vilhelmina Berg)</td>\n      <td>female</td>\n      <td>27.0</td>\n      <td>0</td>\n      <td>2</td>\n      <td>347742</td>\n      <td>11.1333</td>\n      <td>S</td>\n      <td>0</td>\n      <td>0</td>\n      <td>1</td>\n    </tr>\n    <tr>\n      <th>9</th>\n      <td>10</td>\n      <td>1</td>\n      <td>2</td>\n      <td>Nasser, Mrs. Nicholas (Adele Achem)</td>\n      <td>female</td>\n      <td>14.0</td>\n      <td>1</td>\n      <td>0</td>\n      <td>237736</td>\n      <td>30.0708</td>\n      <td>C</td>\n      <td>0</td>\n      <td>0</td>\n      <td>0</td>\n    </tr>\n  </tbody>\n</table>\n</div>"
     },
<<<<<<< HEAD
     "execution_count": 266,
=======
     "execution_count": 46,
>>>>>>> 2f43b30931e52bd79121dfdbd6b6af50c1cc28c0
     "metadata": {},
     "output_type": "execute_result"
    }
   ],
   "source": [
    "Sex = pd.get_dummies(train['Sex'], drop_first=True)\n",
    "Embark = pd.get_dummies(train['Embarked'], drop_first=True)\n",
    "train = pd.concat([train, Sex, Embark], axis=1)\n",
    "train.head(10)"
<<<<<<< HEAD
   ]
  },
  {
   "cell_type": "code",
   "execution_count": 267,
   "metadata": {
    "pycharm": {
     "name": "#%%\n"
    }
   },
=======
   ],
   "metadata": {
    "collapsed": false,
    "pycharm": {
     "name": "#%%\n"
    }
   }
  },
  {
   "cell_type": "code",
   "execution_count": 47,
>>>>>>> 2f43b30931e52bd79121dfdbd6b6af50c1cc28c0
   "outputs": [
    {
     "data": {
      "text/plain": "   Survived  Pclass   Age  SibSp  Parch     Fare  male  Q  S\n0         0       3  22.0      1      0   7.2500     1  0  1\n1         1       1  38.0      1      0  71.2833     0  0  0\n2         1       3  26.0      0      0   7.9250     0  0  1\n3         1       1  35.0      1      0  53.1000     0  0  1\n4         0       3  35.0      0      0   8.0500     1  0  1\n5         0       3  28.0      0      0   8.4583     1  1  0\n6         0       1  54.0      0      0  51.8625     1  0  1\n7         0       3   2.0      3      1  21.0750     1  0  1\n8         1       3  27.0      0      2  11.1333     0  0  1\n9         1       2  14.0      1      0  30.0708     0  0  0",
      "text/html": "<div>\n<style scoped>\n    .dataframe tbody tr th:only-of-type {\n        vertical-align: middle;\n    }\n\n    .dataframe tbody tr th {\n        vertical-align: top;\n    }\n\n    .dataframe thead th {\n        text-align: right;\n    }\n</style>\n<table border=\"1\" class=\"dataframe\">\n  <thead>\n    <tr style=\"text-align: right;\">\n      <th></th>\n      <th>Survived</th>\n      <th>Pclass</th>\n      <th>Age</th>\n      <th>SibSp</th>\n      <th>Parch</th>\n      <th>Fare</th>\n      <th>male</th>\n      <th>Q</th>\n      <th>S</th>\n    </tr>\n  </thead>\n  <tbody>\n    <tr>\n      <th>0</th>\n      <td>0</td>\n      <td>3</td>\n      <td>22.0</td>\n      <td>1</td>\n      <td>0</td>\n      <td>7.2500</td>\n      <td>1</td>\n      <td>0</td>\n      <td>1</td>\n    </tr>\n    <tr>\n      <th>1</th>\n      <td>1</td>\n      <td>1</td>\n      <td>38.0</td>\n      <td>1</td>\n      <td>0</td>\n      <td>71.2833</td>\n      <td>0</td>\n      <td>0</td>\n      <td>0</td>\n    </tr>\n    <tr>\n      <th>2</th>\n      <td>1</td>\n      <td>3</td>\n      <td>26.0</td>\n      <td>0</td>\n      <td>0</td>\n      <td>7.9250</td>\n      <td>0</td>\n      <td>0</td>\n      <td>1</td>\n    </tr>\n    <tr>\n      <th>3</th>\n      <td>1</td>\n      <td>1</td>\n      <td>35.0</td>\n      <td>1</td>\n      <td>0</td>\n      <td>53.1000</td>\n      <td>0</td>\n      <td>0</td>\n      <td>1</td>\n    </tr>\n    <tr>\n      <th>4</th>\n      <td>0</td>\n      <td>3</td>\n      <td>35.0</td>\n      <td>0</td>\n      <td>0</td>\n      <td>8.0500</td>\n      <td>1</td>\n      <td>0</td>\n      <td>1</td>\n    </tr>\n    <tr>\n      <th>5</th>\n      <td>0</td>\n      <td>3</td>\n      <td>28.0</td>\n      <td>0</td>\n      <td>0</td>\n      <td>8.4583</td>\n      <td>1</td>\n      <td>1</td>\n      <td>0</td>\n    </tr>\n    <tr>\n      <th>6</th>\n      <td>0</td>\n      <td>1</td>\n      <td>54.0</td>\n      <td>0</td>\n      <td>0</td>\n      <td>51.8625</td>\n      <td>1</td>\n      <td>0</td>\n      <td>1</td>\n    </tr>\n    <tr>\n      <th>7</th>\n      <td>0</td>\n      <td>3</td>\n      <td>2.0</td>\n      <td>3</td>\n      <td>1</td>\n      <td>21.0750</td>\n      <td>1</td>\n      <td>0</td>\n      <td>1</td>\n    </tr>\n    <tr>\n      <th>8</th>\n      <td>1</td>\n      <td>3</td>\n      <td>27.0</td>\n      <td>0</td>\n      <td>2</td>\n      <td>11.1333</td>\n      <td>0</td>\n      <td>0</td>\n      <td>1</td>\n    </tr>\n    <tr>\n      <th>9</th>\n      <td>1</td>\n      <td>2</td>\n      <td>14.0</td>\n      <td>1</td>\n      <td>0</td>\n      <td>30.0708</td>\n      <td>0</td>\n      <td>0</td>\n      <td>0</td>\n    </tr>\n  </tbody>\n</table>\n</div>"
     },
<<<<<<< HEAD
     "execution_count": 267,
=======
     "execution_count": 47,
>>>>>>> 2f43b30931e52bd79121dfdbd6b6af50c1cc28c0
     "metadata": {},
     "output_type": "execute_result"
    }
   ],
   "source": [
    "train.drop(columns=['Sex', 'Embarked', 'Name', 'Ticket', 'PassengerId'], inplace=True)\n",
    "train.head(10)"
<<<<<<< HEAD
   ]
  },
  {
   "cell_type": "code",
   "execution_count": 268,
   "metadata": {
    "pycharm": {
     "name": "#%%\n"
    }
   },
   "outputs": [],
   "source": [
    "X = train[['Pclass', 'Age', 'SibSp', 'Parch', 'Fare', 'male', 'Q', 'S']]\n",
    "y = train['Survived']\n",
    "X_train, X_test, y_train, y_test = train_test_split(X, y, test_size=0.3, random_state=random.randint(0,10000))"
   ]
  },
  {
   "cell_type": "code",
   "execution_count": 269,
   "metadata": {
    "pycharm": {
     "name": "#%%\n"
    }
   },
   "outputs": [
    {
     "data": {
      "text/plain": "     Pclass    Age  SibSp  Parch      Fare  male  Q  S  Y Predicted  Y Real\n243       3  22.00      0      0    7.1250     1  0  1            0       0\n454       3  28.00      0      0    8.0500     1  0  1            0       0\n616       3  34.00      1      1   14.4000     1  0  1            0       0\n201       3  28.00      8      2   69.5500     1  0  1            0       0\n843       3  34.50      0      0    6.4375     1  0  0            0       0\n828       3  28.00      0      0    7.7500     1  1  0            0       1\n97        1  23.00      0      1   63.3583     1  0  0            1       1\n571       1  53.00      2      0   51.4792     0  0  1            1       1\n406       3  51.00      0      0    7.7500     1  0  1            0       0\n746       3  16.00      1      1   20.2500     1  0  1            0       0\n760       3  28.00      0      0   14.5000     1  0  1            0       0\n256       1  28.00      0      0   79.2000     0  0  0            1       1\n213       2  30.00      0      0   13.0000     1  0  1            0       0\n141       3  22.00      0      0    7.7500     0  0  1            1       1\n535       2   7.00      0      2   26.2500     0  0  1            1       1\n390       1  36.00      1      2  120.0000     1  0  1            0       1\n606       3  30.00      0      0    7.8958     1  0  1            0       0\n241       3  28.00      1      0   15.5000     0  1  0            1       1\n431       3  28.00      1      0   16.1000     0  0  1            1       1\n832       3  28.00      0      0    7.2292     1  0  0            0       0\n338       3  45.00      0      0    8.0500     1  0  1            0       1\n122       2  32.50      1      0   30.0708     1  0  0            0       0\n347       3  28.00      1      0   16.1000     0  0  1            1       1\n656       3  28.00      0      0    7.8958     1  0  1            0       0\n47        3  28.00      0      0    7.7500     0  1  0            1       1\n101       3  28.00      0      0    7.8958     1  0  1            0       0\n522       3  28.00      0      0    7.2250     1  0  0            0       0\n608       2  22.00      1      2   41.5792     0  0  0            1       1\n547       2  28.00      0      0   13.8625     1  0  0            0       1\n264       3  28.00      0      0    7.7500     0  1  0            1       0\n242       2  29.00      0      0   10.5000     1  0  1            0       0\n524       3  28.00      0      0    7.2292     1  0  0            0       0\n823       3  27.00      0      1   12.4750     0  0  1            1       1\n769       3  32.00      0      0    8.3625     1  0  1            0       0\n181       2  28.00      0      0   15.0500     1  0  0            0       0\n639       3  28.00      1      0   16.1000     1  0  1            0       0\n153       3  40.50      0      2   14.5000     1  0  1            0       0\n274       3  28.00      0      0    7.7500     0  1  0            1       1\n216       3  27.00      0      0    7.9250     0  0  1            1       1\n744       3  31.00      0      0    7.9250     1  0  1            0       1\n69        3  26.00      2      0    8.6625     1  0  1            0       0\n595       3  36.00      1      1   24.1500     1  0  1            0       0\n803       3   0.42      0      1    8.5167     1  0  0            0       1\n224       1  38.00      1      0   90.0000     1  0  1            0       1\n583       1  36.00      0      0   40.1250     1  0  0            1       0\n579       3  32.00      0      0    7.9250     1  0  1            0       1\n192       3  19.00      1      0    7.8542     0  0  1            1       1\n684       2  60.00      1      1   39.0000     1  0  1            0       0\n772       2  57.00      0      0   10.5000     0  0  1            1       0\n640       3  20.00      0      0    7.8542     1  0  1            0       0",
      "text/html": "<div>\n<style scoped>\n    .dataframe tbody tr th:only-of-type {\n        vertical-align: middle;\n    }\n\n    .dataframe tbody tr th {\n        vertical-align: top;\n    }\n\n    .dataframe thead th {\n        text-align: right;\n    }\n</style>\n<table border=\"1\" class=\"dataframe\">\n  <thead>\n    <tr style=\"text-align: right;\">\n      <th></th>\n      <th>Pclass</th>\n      <th>Age</th>\n      <th>SibSp</th>\n      <th>Parch</th>\n      <th>Fare</th>\n      <th>male</th>\n      <th>Q</th>\n      <th>S</th>\n      <th>Y Predicted</th>\n      <th>Y Real</th>\n    </tr>\n  </thead>\n  <tbody>\n    <tr>\n      <th>243</th>\n      <td>3</td>\n      <td>22.00</td>\n      <td>0</td>\n      <td>0</td>\n      <td>7.1250</td>\n      <td>1</td>\n      <td>0</td>\n      <td>1</td>\n      <td>0</td>\n      <td>0</td>\n    </tr>\n    <tr>\n      <th>454</th>\n      <td>3</td>\n      <td>28.00</td>\n      <td>0</td>\n      <td>0</td>\n      <td>8.0500</td>\n      <td>1</td>\n      <td>0</td>\n      <td>1</td>\n      <td>0</td>\n      <td>0</td>\n    </tr>\n    <tr>\n      <th>616</th>\n      <td>3</td>\n      <td>34.00</td>\n      <td>1</td>\n      <td>1</td>\n      <td>14.4000</td>\n      <td>1</td>\n      <td>0</td>\n      <td>1</td>\n      <td>0</td>\n      <td>0</td>\n    </tr>\n    <tr>\n      <th>201</th>\n      <td>3</td>\n      <td>28.00</td>\n      <td>8</td>\n      <td>2</td>\n      <td>69.5500</td>\n      <td>1</td>\n      <td>0</td>\n      <td>1</td>\n      <td>0</td>\n      <td>0</td>\n    </tr>\n    <tr>\n      <th>843</th>\n      <td>3</td>\n      <td>34.50</td>\n      <td>0</td>\n      <td>0</td>\n      <td>6.4375</td>\n      <td>1</td>\n      <td>0</td>\n      <td>0</td>\n      <td>0</td>\n      <td>0</td>\n    </tr>\n    <tr>\n      <th>828</th>\n      <td>3</td>\n      <td>28.00</td>\n      <td>0</td>\n      <td>0</td>\n      <td>7.7500</td>\n      <td>1</td>\n      <td>1</td>\n      <td>0</td>\n      <td>0</td>\n      <td>1</td>\n    </tr>\n    <tr>\n      <th>97</th>\n      <td>1</td>\n      <td>23.00</td>\n      <td>0</td>\n      <td>1</td>\n      <td>63.3583</td>\n      <td>1</td>\n      <td>0</td>\n      <td>0</td>\n      <td>1</td>\n      <td>1</td>\n    </tr>\n    <tr>\n      <th>571</th>\n      <td>1</td>\n      <td>53.00</td>\n      <td>2</td>\n      <td>0</td>\n      <td>51.4792</td>\n      <td>0</td>\n      <td>0</td>\n      <td>1</td>\n      <td>1</td>\n      <td>1</td>\n    </tr>\n    <tr>\n      <th>406</th>\n      <td>3</td>\n      <td>51.00</td>\n      <td>0</td>\n      <td>0</td>\n      <td>7.7500</td>\n      <td>1</td>\n      <td>0</td>\n      <td>1</td>\n      <td>0</td>\n      <td>0</td>\n    </tr>\n    <tr>\n      <th>746</th>\n      <td>3</td>\n      <td>16.00</td>\n      <td>1</td>\n      <td>1</td>\n      <td>20.2500</td>\n      <td>1</td>\n      <td>0</td>\n      <td>1</td>\n      <td>0</td>\n      <td>0</td>\n    </tr>\n    <tr>\n      <th>760</th>\n      <td>3</td>\n      <td>28.00</td>\n      <td>0</td>\n      <td>0</td>\n      <td>14.5000</td>\n      <td>1</td>\n      <td>0</td>\n      <td>1</td>\n      <td>0</td>\n      <td>0</td>\n    </tr>\n    <tr>\n      <th>256</th>\n      <td>1</td>\n      <td>28.00</td>\n      <td>0</td>\n      <td>0</td>\n      <td>79.2000</td>\n      <td>0</td>\n      <td>0</td>\n      <td>0</td>\n      <td>1</td>\n      <td>1</td>\n    </tr>\n    <tr>\n      <th>213</th>\n      <td>2</td>\n      <td>30.00</td>\n      <td>0</td>\n      <td>0</td>\n      <td>13.0000</td>\n      <td>1</td>\n      <td>0</td>\n      <td>1</td>\n      <td>0</td>\n      <td>0</td>\n    </tr>\n    <tr>\n      <th>141</th>\n      <td>3</td>\n      <td>22.00</td>\n      <td>0</td>\n      <td>0</td>\n      <td>7.7500</td>\n      <td>0</td>\n      <td>0</td>\n      <td>1</td>\n      <td>1</td>\n      <td>1</td>\n    </tr>\n    <tr>\n      <th>535</th>\n      <td>2</td>\n      <td>7.00</td>\n      <td>0</td>\n      <td>2</td>\n      <td>26.2500</td>\n      <td>0</td>\n      <td>0</td>\n      <td>1</td>\n      <td>1</td>\n      <td>1</td>\n    </tr>\n    <tr>\n      <th>390</th>\n      <td>1</td>\n      <td>36.00</td>\n      <td>1</td>\n      <td>2</td>\n      <td>120.0000</td>\n      <td>1</td>\n      <td>0</td>\n      <td>1</td>\n      <td>0</td>\n      <td>1</td>\n    </tr>\n    <tr>\n      <th>606</th>\n      <td>3</td>\n      <td>30.00</td>\n      <td>0</td>\n      <td>0</td>\n      <td>7.8958</td>\n      <td>1</td>\n      <td>0</td>\n      <td>1</td>\n      <td>0</td>\n      <td>0</td>\n    </tr>\n    <tr>\n      <th>241</th>\n      <td>3</td>\n      <td>28.00</td>\n      <td>1</td>\n      <td>0</td>\n      <td>15.5000</td>\n      <td>0</td>\n      <td>1</td>\n      <td>0</td>\n      <td>1</td>\n      <td>1</td>\n    </tr>\n    <tr>\n      <th>431</th>\n      <td>3</td>\n      <td>28.00</td>\n      <td>1</td>\n      <td>0</td>\n      <td>16.1000</td>\n      <td>0</td>\n      <td>0</td>\n      <td>1</td>\n      <td>1</td>\n      <td>1</td>\n    </tr>\n    <tr>\n      <th>832</th>\n      <td>3</td>\n      <td>28.00</td>\n      <td>0</td>\n      <td>0</td>\n      <td>7.2292</td>\n      <td>1</td>\n      <td>0</td>\n      <td>0</td>\n      <td>0</td>\n      <td>0</td>\n    </tr>\n    <tr>\n      <th>338</th>\n      <td>3</td>\n      <td>45.00</td>\n      <td>0</td>\n      <td>0</td>\n      <td>8.0500</td>\n      <td>1</td>\n      <td>0</td>\n      <td>1</td>\n      <td>0</td>\n      <td>1</td>\n    </tr>\n    <tr>\n      <th>122</th>\n      <td>2</td>\n      <td>32.50</td>\n      <td>1</td>\n      <td>0</td>\n      <td>30.0708</td>\n      <td>1</td>\n      <td>0</td>\n      <td>0</td>\n      <td>0</td>\n      <td>0</td>\n    </tr>\n    <tr>\n      <th>347</th>\n      <td>3</td>\n      <td>28.00</td>\n      <td>1</td>\n      <td>0</td>\n      <td>16.1000</td>\n      <td>0</td>\n      <td>0</td>\n      <td>1</td>\n      <td>1</td>\n      <td>1</td>\n    </tr>\n    <tr>\n      <th>656</th>\n      <td>3</td>\n      <td>28.00</td>\n      <td>0</td>\n      <td>0</td>\n      <td>7.8958</td>\n      <td>1</td>\n      <td>0</td>\n      <td>1</td>\n      <td>0</td>\n      <td>0</td>\n    </tr>\n    <tr>\n      <th>47</th>\n      <td>3</td>\n      <td>28.00</td>\n      <td>0</td>\n      <td>0</td>\n      <td>7.7500</td>\n      <td>0</td>\n      <td>1</td>\n      <td>0</td>\n      <td>1</td>\n      <td>1</td>\n    </tr>\n    <tr>\n      <th>101</th>\n      <td>3</td>\n      <td>28.00</td>\n      <td>0</td>\n      <td>0</td>\n      <td>7.8958</td>\n      <td>1</td>\n      <td>0</td>\n      <td>1</td>\n      <td>0</td>\n      <td>0</td>\n    </tr>\n    <tr>\n      <th>522</th>\n      <td>3</td>\n      <td>28.00</td>\n      <td>0</td>\n      <td>0</td>\n      <td>7.2250</td>\n      <td>1</td>\n      <td>0</td>\n      <td>0</td>\n      <td>0</td>\n      <td>0</td>\n    </tr>\n    <tr>\n      <th>608</th>\n      <td>2</td>\n      <td>22.00</td>\n      <td>1</td>\n      <td>2</td>\n      <td>41.5792</td>\n      <td>0</td>\n      <td>0</td>\n      <td>0</td>\n      <td>1</td>\n      <td>1</td>\n    </tr>\n    <tr>\n      <th>547</th>\n      <td>2</td>\n      <td>28.00</td>\n      <td>0</td>\n      <td>0</td>\n      <td>13.8625</td>\n      <td>1</td>\n      <td>0</td>\n      <td>0</td>\n      <td>0</td>\n      <td>1</td>\n    </tr>\n    <tr>\n      <th>264</th>\n      <td>3</td>\n      <td>28.00</td>\n      <td>0</td>\n      <td>0</td>\n      <td>7.7500</td>\n      <td>0</td>\n      <td>1</td>\n      <td>0</td>\n      <td>1</td>\n      <td>0</td>\n    </tr>\n    <tr>\n      <th>242</th>\n      <td>2</td>\n      <td>29.00</td>\n      <td>0</td>\n      <td>0</td>\n      <td>10.5000</td>\n      <td>1</td>\n      <td>0</td>\n      <td>1</td>\n      <td>0</td>\n      <td>0</td>\n    </tr>\n    <tr>\n      <th>524</th>\n      <td>3</td>\n      <td>28.00</td>\n      <td>0</td>\n      <td>0</td>\n      <td>7.2292</td>\n      <td>1</td>\n      <td>0</td>\n      <td>0</td>\n      <td>0</td>\n      <td>0</td>\n    </tr>\n    <tr>\n      <th>823</th>\n      <td>3</td>\n      <td>27.00</td>\n      <td>0</td>\n      <td>1</td>\n      <td>12.4750</td>\n      <td>0</td>\n      <td>0</td>\n      <td>1</td>\n      <td>1</td>\n      <td>1</td>\n    </tr>\n    <tr>\n      <th>769</th>\n      <td>3</td>\n      <td>32.00</td>\n      <td>0</td>\n      <td>0</td>\n      <td>8.3625</td>\n      <td>1</td>\n      <td>0</td>\n      <td>1</td>\n      <td>0</td>\n      <td>0</td>\n    </tr>\n    <tr>\n      <th>181</th>\n      <td>2</td>\n      <td>28.00</td>\n      <td>0</td>\n      <td>0</td>\n      <td>15.0500</td>\n      <td>1</td>\n      <td>0</td>\n      <td>0</td>\n      <td>0</td>\n      <td>0</td>\n    </tr>\n    <tr>\n      <th>639</th>\n      <td>3</td>\n      <td>28.00</td>\n      <td>1</td>\n      <td>0</td>\n      <td>16.1000</td>\n      <td>1</td>\n      <td>0</td>\n      <td>1</td>\n      <td>0</td>\n      <td>0</td>\n    </tr>\n    <tr>\n      <th>153</th>\n      <td>3</td>\n      <td>40.50</td>\n      <td>0</td>\n      <td>2</td>\n      <td>14.5000</td>\n      <td>1</td>\n      <td>0</td>\n      <td>1</td>\n      <td>0</td>\n      <td>0</td>\n    </tr>\n    <tr>\n      <th>274</th>\n      <td>3</td>\n      <td>28.00</td>\n      <td>0</td>\n      <td>0</td>\n      <td>7.7500</td>\n      <td>0</td>\n      <td>1</td>\n      <td>0</td>\n      <td>1</td>\n      <td>1</td>\n    </tr>\n    <tr>\n      <th>216</th>\n      <td>3</td>\n      <td>27.00</td>\n      <td>0</td>\n      <td>0</td>\n      <td>7.9250</td>\n      <td>0</td>\n      <td>0</td>\n      <td>1</td>\n      <td>1</td>\n      <td>1</td>\n    </tr>\n    <tr>\n      <th>744</th>\n      <td>3</td>\n      <td>31.00</td>\n      <td>0</td>\n      <td>0</td>\n      <td>7.9250</td>\n      <td>1</td>\n      <td>0</td>\n      <td>1</td>\n      <td>0</td>\n      <td>1</td>\n    </tr>\n    <tr>\n      <th>69</th>\n      <td>3</td>\n      <td>26.00</td>\n      <td>2</td>\n      <td>0</td>\n      <td>8.6625</td>\n      <td>1</td>\n      <td>0</td>\n      <td>1</td>\n      <td>0</td>\n      <td>0</td>\n    </tr>\n    <tr>\n      <th>595</th>\n      <td>3</td>\n      <td>36.00</td>\n      <td>1</td>\n      <td>1</td>\n      <td>24.1500</td>\n      <td>1</td>\n      <td>0</td>\n      <td>1</td>\n      <td>0</td>\n      <td>0</td>\n    </tr>\n    <tr>\n      <th>803</th>\n      <td>3</td>\n      <td>0.42</td>\n      <td>0</td>\n      <td>1</td>\n      <td>8.5167</td>\n      <td>1</td>\n      <td>0</td>\n      <td>0</td>\n      <td>0</td>\n      <td>1</td>\n    </tr>\n    <tr>\n      <th>224</th>\n      <td>1</td>\n      <td>38.00</td>\n      <td>1</td>\n      <td>0</td>\n      <td>90.0000</td>\n      <td>1</td>\n      <td>0</td>\n      <td>1</td>\n      <td>0</td>\n      <td>1</td>\n    </tr>\n    <tr>\n      <th>583</th>\n      <td>1</td>\n      <td>36.00</td>\n      <td>0</td>\n      <td>0</td>\n      <td>40.1250</td>\n      <td>1</td>\n      <td>0</td>\n      <td>0</td>\n      <td>1</td>\n      <td>0</td>\n    </tr>\n    <tr>\n      <th>579</th>\n      <td>3</td>\n      <td>32.00</td>\n      <td>0</td>\n      <td>0</td>\n      <td>7.9250</td>\n      <td>1</td>\n      <td>0</td>\n      <td>1</td>\n      <td>0</td>\n      <td>1</td>\n    </tr>\n    <tr>\n      <th>192</th>\n      <td>3</td>\n      <td>19.00</td>\n      <td>1</td>\n      <td>0</td>\n      <td>7.8542</td>\n      <td>0</td>\n      <td>0</td>\n      <td>1</td>\n      <td>1</td>\n      <td>1</td>\n    </tr>\n    <tr>\n      <th>684</th>\n      <td>2</td>\n      <td>60.00</td>\n      <td>1</td>\n      <td>1</td>\n      <td>39.0000</td>\n      <td>1</td>\n      <td>0</td>\n      <td>1</td>\n      <td>0</td>\n      <td>0</td>\n    </tr>\n    <tr>\n      <th>772</th>\n      <td>2</td>\n      <td>57.00</td>\n      <td>0</td>\n      <td>0</td>\n      <td>10.5000</td>\n      <td>0</td>\n      <td>0</td>\n      <td>1</td>\n      <td>1</td>\n      <td>0</td>\n    </tr>\n    <tr>\n      <th>640</th>\n      <td>3</td>\n      <td>20.00</td>\n      <td>0</td>\n      <td>0</td>\n      <td>7.8542</td>\n      <td>1</td>\n      <td>0</td>\n      <td>1</td>\n      <td>0</td>\n      <td>0</td>\n    </tr>\n  </tbody>\n</table>\n</div>"
     },
     "execution_count": 269,
=======
   ],
   "metadata": {
    "collapsed": false,
    "pycharm": {
     "name": "#%%\n"
    }
   }
  },
  {
   "cell_type": "code",
   "execution_count": 48,
   "outputs": [
    {
     "data": {
      "text/plain": "     Pclass   Age  SibSp  Parch     Fare  male  Q  S\n375       1  28.0      1      0  82.1708     0  0  0\n842       1  30.0      0      0  31.0000     0  0  0\n458       2  50.0      0      0  10.5000     0  0  1\n500       3  17.0      0      0   8.6625     1  0  1\n317       2  54.0      0      0  14.0000     1  0  1\n496       1  54.0      1      0  78.2667     0  0  0\n843       3  34.5      0      0   6.4375     1  0  0\n849       1  28.0      1      0  89.1042     0  0  0\n176       3  28.0      3      1  25.4667     1  0  1\n759       1  33.0      0      0  86.5000     0  0  1",
      "text/html": "<div>\n<style scoped>\n    .dataframe tbody tr th:only-of-type {\n        vertical-align: middle;\n    }\n\n    .dataframe tbody tr th {\n        vertical-align: top;\n    }\n\n    .dataframe thead th {\n        text-align: right;\n    }\n</style>\n<table border=\"1\" class=\"dataframe\">\n  <thead>\n    <tr style=\"text-align: right;\">\n      <th></th>\n      <th>Pclass</th>\n      <th>Age</th>\n      <th>SibSp</th>\n      <th>Parch</th>\n      <th>Fare</th>\n      <th>male</th>\n      <th>Q</th>\n      <th>S</th>\n    </tr>\n  </thead>\n  <tbody>\n    <tr>\n      <th>375</th>\n      <td>1</td>\n      <td>28.0</td>\n      <td>1</td>\n      <td>0</td>\n      <td>82.1708</td>\n      <td>0</td>\n      <td>0</td>\n      <td>0</td>\n    </tr>\n    <tr>\n      <th>842</th>\n      <td>1</td>\n      <td>30.0</td>\n      <td>0</td>\n      <td>0</td>\n      <td>31.0000</td>\n      <td>0</td>\n      <td>0</td>\n      <td>0</td>\n    </tr>\n    <tr>\n      <th>458</th>\n      <td>2</td>\n      <td>50.0</td>\n      <td>0</td>\n      <td>0</td>\n      <td>10.5000</td>\n      <td>0</td>\n      <td>0</td>\n      <td>1</td>\n    </tr>\n    <tr>\n      <th>500</th>\n      <td>3</td>\n      <td>17.0</td>\n      <td>0</td>\n      <td>0</td>\n      <td>8.6625</td>\n      <td>1</td>\n      <td>0</td>\n      <td>1</td>\n    </tr>\n    <tr>\n      <th>317</th>\n      <td>2</td>\n      <td>54.0</td>\n      <td>0</td>\n      <td>0</td>\n      <td>14.0000</td>\n      <td>1</td>\n      <td>0</td>\n      <td>1</td>\n    </tr>\n    <tr>\n      <th>496</th>\n      <td>1</td>\n      <td>54.0</td>\n      <td>1</td>\n      <td>0</td>\n      <td>78.2667</td>\n      <td>0</td>\n      <td>0</td>\n      <td>0</td>\n    </tr>\n    <tr>\n      <th>843</th>\n      <td>3</td>\n      <td>34.5</td>\n      <td>0</td>\n      <td>0</td>\n      <td>6.4375</td>\n      <td>1</td>\n      <td>0</td>\n      <td>0</td>\n    </tr>\n    <tr>\n      <th>849</th>\n      <td>1</td>\n      <td>28.0</td>\n      <td>1</td>\n      <td>0</td>\n      <td>89.1042</td>\n      <td>0</td>\n      <td>0</td>\n      <td>0</td>\n    </tr>\n    <tr>\n      <th>176</th>\n      <td>3</td>\n      <td>28.0</td>\n      <td>3</td>\n      <td>1</td>\n      <td>25.4667</td>\n      <td>1</td>\n      <td>0</td>\n      <td>1</td>\n    </tr>\n    <tr>\n      <th>759</th>\n      <td>1</td>\n      <td>33.0</td>\n      <td>0</td>\n      <td>0</td>\n      <td>86.5000</td>\n      <td>0</td>\n      <td>0</td>\n      <td>1</td>\n    </tr>\n  </tbody>\n</table>\n</div>"
     },
     "execution_count": 48,
>>>>>>> 2f43b30931e52bd79121dfdbd6b6af50c1cc28c0
     "metadata": {},
     "output_type": "execute_result"
    }
   ],
   "source": [
<<<<<<< HEAD
    "logreg = LogisticRegression(max_iter=1000)\n",
    "logreg.fit(X_test, y_test)\n",
    "\n",
    "y_predict = logreg.predict(X_test)\n",
    "predict = pd.concat([X_test, pd.DataFrame({'Y Predicted': y_predict, 'Y Real': y_test})], axis=1)\n",
    "predict.head((50))"
   ]
  },
  {
   "cell_type": "code",
   "execution_count": 270,
   "metadata": {
    "pycharm": {
     "name": "#%%\n"
    }
   },
   "outputs": [
    {
     "name": "stdout",
     "output_type": "stream",
     "text": [
      "              precision    recall  f1-score   support\n",
      "\n",
      "           0       0.80      0.87      0.83       162\n",
      "           1       0.77      0.67      0.72       106\n",
      "\n",
      "    accuracy                           0.79       268\n",
      "   macro avg       0.79      0.77      0.78       268\n",
      "weighted avg       0.79      0.79      0.79       268\n",
      "\n"
     ]
    }
   ],
   "source": [
    "print(classification_report(y_test, y_predict))\n"
   ]
  },
  {
   "cell_type": "code",
   "execution_count": 271,
   "metadata": {
    "pycharm": {
     "name": "#%%\n"
    }
   },
   "outputs": [],
   "source": [
    "knn = neighbors.KNeighborsClassifier(15, weights=\"distance\")\n",
    "knn.fit(X_train, y_train)\n",
    "\n",
    "y_predict = knn.predict(X_test)\n",
    "predict = pd.concat([X_test, pd.DataFrame({'Y Predicted': y_predict, 'Y Real': y_test})], axis=1)"
   ]
  },
  {
   "cell_type": "code",
   "execution_count": 272,
=======
    "X = train[['Pclass', 'Age', 'SibSp', 'Parch', 'Fare', 'male', 'Q', 'S']]\n",
    "y = train['Survived']\n",
    "X_train, X_test, y_train, y_test = train_test_split(X, y, test_size=0.3)"
   ],
   "metadata": {
    "collapsed": false,
    "pycharm": {
     "name": "#%%\n"
    }
   }
  },
  {
   "cell_type": "code",
   "execution_count": 51,
   "outputs": [
    {
     "data": {
      "text/plain": "     Pclass   Age  SibSp  Parch      Fare  male  Q  S  Y Predicted  Y Real\n762       3  20.0      0      0    7.2292     1  0  0            0       1\n156       3  16.0      0      0    7.7333     0  1  0            1       1\n737       1  35.0      0      0  512.3292     1  0  0            1       1\n376       3  22.0      0      0    7.2500     0  0  1            1       1\n618       2   4.0      2      1   39.0000     0  0  1            1       1\n70        2  32.0      0      0   10.5000     1  0  1            0       0\n349       3  42.0      0      0    8.6625     1  0  1            0       0\n61        1  38.0      0      0   80.0000     0  0  0            1       1\n10        3   4.0      1      1   16.7000     0  0  1            1       1\n486       1  35.0      1      0   90.0000     0  0  1            1       1\n864       2  24.0      0      0   13.0000     1  0  1            0       0\n113       3  20.0      1      0    9.8250     0  0  1            1       0\n794       3  25.0      0      0    7.8958     1  0  1            0       0\n50        3   7.0      4      1   39.6875     1  0  1            0       0\n234       2  24.0      0      0   10.5000     1  0  1            0       0\n637       2  31.0      1      1   26.2500     1  0  1            0       0\n655       2  24.0      2      0   73.5000     1  0  1            0       0\n343       2  25.0      0      0   13.0000     1  0  1            0       0\n614       3  35.0      0      0    8.0500     1  0  1            0       0\n730       1  29.0      0      0  211.3375     0  0  1            1       1\n712       1  48.0      1      0   52.0000     1  0  1            0       1\n1         1  38.0      1      0   71.2833     0  0  0            1       1\n238       2  19.0      0      0   10.5000     1  0  1            0       0\n441       3  20.0      0      0    9.5000     1  0  1            0       0\n565       3  24.0      2      0   24.1500     1  0  1            0       0\n783       3  28.0      1      2   23.4500     1  0  1            0       0\n602       1  28.0      0      0   42.4000     1  0  1            0       0\n406       3  51.0      0      0    7.7500     1  0  1            0       0\n528       3  39.0      0      0    7.9250     1  0  1            0       0\n344       2  36.0      0      0   13.0000     1  0  1            0       0\n443       2  28.0      0      0   13.0000     0  0  1            1       1\n455       3  29.0      0      0    7.8958     1  0  0            0       1\n533       3  28.0      0      2   22.3583     0  0  0            1       1\n776       3  28.0      0      0    7.7500     1  1  0            0       0\n587       1  60.0      1      1   79.2000     1  0  0            0       1\n198       3  28.0      0      0    7.7500     0  1  0            1       1\n168       1  28.0      0      0   25.9250     1  0  1            0       0\n775       3  18.0      0      0    7.7500     1  0  1            0       0\n385       2  18.0      0      0   73.5000     1  0  1            0       0\n402       3  21.0      1      0    9.8250     0  0  1            1       0\n570       2  62.0      0      0   10.5000     1  0  1            0       1\n226       2  19.0      0      0   10.5000     1  0  1            0       1\n369       1  24.0      0      0   69.3000     0  0  0            1       1\n444       3  28.0      0      0    8.1125     1  0  1            0       1\n454       3  28.0      0      0    8.0500     1  0  1            0       0\n427       2  19.0      0      0   26.0000     0  0  1            1       1\n698       1  49.0      1      1  110.8833     1  0  0            0       0\n315       3  26.0      0      0    7.8542     0  0  1            1       1\n208       3  16.0      0      0    7.7500     0  1  0            1       1\n520       1  30.0      0      0   93.5000     0  0  1            1       1",
      "text/html": "<div>\n<style scoped>\n    .dataframe tbody tr th:only-of-type {\n        vertical-align: middle;\n    }\n\n    .dataframe tbody tr th {\n        vertical-align: top;\n    }\n\n    .dataframe thead th {\n        text-align: right;\n    }\n</style>\n<table border=\"1\" class=\"dataframe\">\n  <thead>\n    <tr style=\"text-align: right;\">\n      <th></th>\n      <th>Pclass</th>\n      <th>Age</th>\n      <th>SibSp</th>\n      <th>Parch</th>\n      <th>Fare</th>\n      <th>male</th>\n      <th>Q</th>\n      <th>S</th>\n      <th>Y Predicted</th>\n      <th>Y Real</th>\n    </tr>\n  </thead>\n  <tbody>\n    <tr>\n      <th>762</th>\n      <td>3</td>\n      <td>20.0</td>\n      <td>0</td>\n      <td>0</td>\n      <td>7.2292</td>\n      <td>1</td>\n      <td>0</td>\n      <td>0</td>\n      <td>0</td>\n      <td>1</td>\n    </tr>\n    <tr>\n      <th>156</th>\n      <td>3</td>\n      <td>16.0</td>\n      <td>0</td>\n      <td>0</td>\n      <td>7.7333</td>\n      <td>0</td>\n      <td>1</td>\n      <td>0</td>\n      <td>1</td>\n      <td>1</td>\n    </tr>\n    <tr>\n      <th>737</th>\n      <td>1</td>\n      <td>35.0</td>\n      <td>0</td>\n      <td>0</td>\n      <td>512.3292</td>\n      <td>1</td>\n      <td>0</td>\n      <td>0</td>\n      <td>1</td>\n      <td>1</td>\n    </tr>\n    <tr>\n      <th>376</th>\n      <td>3</td>\n      <td>22.0</td>\n      <td>0</td>\n      <td>0</td>\n      <td>7.2500</td>\n      <td>0</td>\n      <td>0</td>\n      <td>1</td>\n      <td>1</td>\n      <td>1</td>\n    </tr>\n    <tr>\n      <th>618</th>\n      <td>2</td>\n      <td>4.0</td>\n      <td>2</td>\n      <td>1</td>\n      <td>39.0000</td>\n      <td>0</td>\n      <td>0</td>\n      <td>1</td>\n      <td>1</td>\n      <td>1</td>\n    </tr>\n    <tr>\n      <th>70</th>\n      <td>2</td>\n      <td>32.0</td>\n      <td>0</td>\n      <td>0</td>\n      <td>10.5000</td>\n      <td>1</td>\n      <td>0</td>\n      <td>1</td>\n      <td>0</td>\n      <td>0</td>\n    </tr>\n    <tr>\n      <th>349</th>\n      <td>3</td>\n      <td>42.0</td>\n      <td>0</td>\n      <td>0</td>\n      <td>8.6625</td>\n      <td>1</td>\n      <td>0</td>\n      <td>1</td>\n      <td>0</td>\n      <td>0</td>\n    </tr>\n    <tr>\n      <th>61</th>\n      <td>1</td>\n      <td>38.0</td>\n      <td>0</td>\n      <td>0</td>\n      <td>80.0000</td>\n      <td>0</td>\n      <td>0</td>\n      <td>0</td>\n      <td>1</td>\n      <td>1</td>\n    </tr>\n    <tr>\n      <th>10</th>\n      <td>3</td>\n      <td>4.0</td>\n      <td>1</td>\n      <td>1</td>\n      <td>16.7000</td>\n      <td>0</td>\n      <td>0</td>\n      <td>1</td>\n      <td>1</td>\n      <td>1</td>\n    </tr>\n    <tr>\n      <th>486</th>\n      <td>1</td>\n      <td>35.0</td>\n      <td>1</td>\n      <td>0</td>\n      <td>90.0000</td>\n      <td>0</td>\n      <td>0</td>\n      <td>1</td>\n      <td>1</td>\n      <td>1</td>\n    </tr>\n    <tr>\n      <th>864</th>\n      <td>2</td>\n      <td>24.0</td>\n      <td>0</td>\n      <td>0</td>\n      <td>13.0000</td>\n      <td>1</td>\n      <td>0</td>\n      <td>1</td>\n      <td>0</td>\n      <td>0</td>\n    </tr>\n    <tr>\n      <th>113</th>\n      <td>3</td>\n      <td>20.0</td>\n      <td>1</td>\n      <td>0</td>\n      <td>9.8250</td>\n      <td>0</td>\n      <td>0</td>\n      <td>1</td>\n      <td>1</td>\n      <td>0</td>\n    </tr>\n    <tr>\n      <th>794</th>\n      <td>3</td>\n      <td>25.0</td>\n      <td>0</td>\n      <td>0</td>\n      <td>7.8958</td>\n      <td>1</td>\n      <td>0</td>\n      <td>1</td>\n      <td>0</td>\n      <td>0</td>\n    </tr>\n    <tr>\n      <th>50</th>\n      <td>3</td>\n      <td>7.0</td>\n      <td>4</td>\n      <td>1</td>\n      <td>39.6875</td>\n      <td>1</td>\n      <td>0</td>\n      <td>1</td>\n      <td>0</td>\n      <td>0</td>\n    </tr>\n    <tr>\n      <th>234</th>\n      <td>2</td>\n      <td>24.0</td>\n      <td>0</td>\n      <td>0</td>\n      <td>10.5000</td>\n      <td>1</td>\n      <td>0</td>\n      <td>1</td>\n      <td>0</td>\n      <td>0</td>\n    </tr>\n    <tr>\n      <th>637</th>\n      <td>2</td>\n      <td>31.0</td>\n      <td>1</td>\n      <td>1</td>\n      <td>26.2500</td>\n      <td>1</td>\n      <td>0</td>\n      <td>1</td>\n      <td>0</td>\n      <td>0</td>\n    </tr>\n    <tr>\n      <th>655</th>\n      <td>2</td>\n      <td>24.0</td>\n      <td>2</td>\n      <td>0</td>\n      <td>73.5000</td>\n      <td>1</td>\n      <td>0</td>\n      <td>1</td>\n      <td>0</td>\n      <td>0</td>\n    </tr>\n    <tr>\n      <th>343</th>\n      <td>2</td>\n      <td>25.0</td>\n      <td>0</td>\n      <td>0</td>\n      <td>13.0000</td>\n      <td>1</td>\n      <td>0</td>\n      <td>1</td>\n      <td>0</td>\n      <td>0</td>\n    </tr>\n    <tr>\n      <th>614</th>\n      <td>3</td>\n      <td>35.0</td>\n      <td>0</td>\n      <td>0</td>\n      <td>8.0500</td>\n      <td>1</td>\n      <td>0</td>\n      <td>1</td>\n      <td>0</td>\n      <td>0</td>\n    </tr>\n    <tr>\n      <th>730</th>\n      <td>1</td>\n      <td>29.0</td>\n      <td>0</td>\n      <td>0</td>\n      <td>211.3375</td>\n      <td>0</td>\n      <td>0</td>\n      <td>1</td>\n      <td>1</td>\n      <td>1</td>\n    </tr>\n    <tr>\n      <th>712</th>\n      <td>1</td>\n      <td>48.0</td>\n      <td>1</td>\n      <td>0</td>\n      <td>52.0000</td>\n      <td>1</td>\n      <td>0</td>\n      <td>1</td>\n      <td>0</td>\n      <td>1</td>\n    </tr>\n    <tr>\n      <th>1</th>\n      <td>1</td>\n      <td>38.0</td>\n      <td>1</td>\n      <td>0</td>\n      <td>71.2833</td>\n      <td>0</td>\n      <td>0</td>\n      <td>0</td>\n      <td>1</td>\n      <td>1</td>\n    </tr>\n    <tr>\n      <th>238</th>\n      <td>2</td>\n      <td>19.0</td>\n      <td>0</td>\n      <td>0</td>\n      <td>10.5000</td>\n      <td>1</td>\n      <td>0</td>\n      <td>1</td>\n      <td>0</td>\n      <td>0</td>\n    </tr>\n    <tr>\n      <th>441</th>\n      <td>3</td>\n      <td>20.0</td>\n      <td>0</td>\n      <td>0</td>\n      <td>9.5000</td>\n      <td>1</td>\n      <td>0</td>\n      <td>1</td>\n      <td>0</td>\n      <td>0</td>\n    </tr>\n    <tr>\n      <th>565</th>\n      <td>3</td>\n      <td>24.0</td>\n      <td>2</td>\n      <td>0</td>\n      <td>24.1500</td>\n      <td>1</td>\n      <td>0</td>\n      <td>1</td>\n      <td>0</td>\n      <td>0</td>\n    </tr>\n    <tr>\n      <th>783</th>\n      <td>3</td>\n      <td>28.0</td>\n      <td>1</td>\n      <td>2</td>\n      <td>23.4500</td>\n      <td>1</td>\n      <td>0</td>\n      <td>1</td>\n      <td>0</td>\n      <td>0</td>\n    </tr>\n    <tr>\n      <th>602</th>\n      <td>1</td>\n      <td>28.0</td>\n      <td>0</td>\n      <td>0</td>\n      <td>42.4000</td>\n      <td>1</td>\n      <td>0</td>\n      <td>1</td>\n      <td>0</td>\n      <td>0</td>\n    </tr>\n    <tr>\n      <th>406</th>\n      <td>3</td>\n      <td>51.0</td>\n      <td>0</td>\n      <td>0</td>\n      <td>7.7500</td>\n      <td>1</td>\n      <td>0</td>\n      <td>1</td>\n      <td>0</td>\n      <td>0</td>\n    </tr>\n    <tr>\n      <th>528</th>\n      <td>3</td>\n      <td>39.0</td>\n      <td>0</td>\n      <td>0</td>\n      <td>7.9250</td>\n      <td>1</td>\n      <td>0</td>\n      <td>1</td>\n      <td>0</td>\n      <td>0</td>\n    </tr>\n    <tr>\n      <th>344</th>\n      <td>2</td>\n      <td>36.0</td>\n      <td>0</td>\n      <td>0</td>\n      <td>13.0000</td>\n      <td>1</td>\n      <td>0</td>\n      <td>1</td>\n      <td>0</td>\n      <td>0</td>\n    </tr>\n    <tr>\n      <th>443</th>\n      <td>2</td>\n      <td>28.0</td>\n      <td>0</td>\n      <td>0</td>\n      <td>13.0000</td>\n      <td>0</td>\n      <td>0</td>\n      <td>1</td>\n      <td>1</td>\n      <td>1</td>\n    </tr>\n    <tr>\n      <th>455</th>\n      <td>3</td>\n      <td>29.0</td>\n      <td>0</td>\n      <td>0</td>\n      <td>7.8958</td>\n      <td>1</td>\n      <td>0</td>\n      <td>0</td>\n      <td>0</td>\n      <td>1</td>\n    </tr>\n    <tr>\n      <th>533</th>\n      <td>3</td>\n      <td>28.0</td>\n      <td>0</td>\n      <td>2</td>\n      <td>22.3583</td>\n      <td>0</td>\n      <td>0</td>\n      <td>0</td>\n      <td>1</td>\n      <td>1</td>\n    </tr>\n    <tr>\n      <th>776</th>\n      <td>3</td>\n      <td>28.0</td>\n      <td>0</td>\n      <td>0</td>\n      <td>7.7500</td>\n      <td>1</td>\n      <td>1</td>\n      <td>0</td>\n      <td>0</td>\n      <td>0</td>\n    </tr>\n    <tr>\n      <th>587</th>\n      <td>1</td>\n      <td>60.0</td>\n      <td>1</td>\n      <td>1</td>\n      <td>79.2000</td>\n      <td>1</td>\n      <td>0</td>\n      <td>0</td>\n      <td>0</td>\n      <td>1</td>\n    </tr>\n    <tr>\n      <th>198</th>\n      <td>3</td>\n      <td>28.0</td>\n      <td>0</td>\n      <td>0</td>\n      <td>7.7500</td>\n      <td>0</td>\n      <td>1</td>\n      <td>0</td>\n      <td>1</td>\n      <td>1</td>\n    </tr>\n    <tr>\n      <th>168</th>\n      <td>1</td>\n      <td>28.0</td>\n      <td>0</td>\n      <td>0</td>\n      <td>25.9250</td>\n      <td>1</td>\n      <td>0</td>\n      <td>1</td>\n      <td>0</td>\n      <td>0</td>\n    </tr>\n    <tr>\n      <th>775</th>\n      <td>3</td>\n      <td>18.0</td>\n      <td>0</td>\n      <td>0</td>\n      <td>7.7500</td>\n      <td>1</td>\n      <td>0</td>\n      <td>1</td>\n      <td>0</td>\n      <td>0</td>\n    </tr>\n    <tr>\n      <th>385</th>\n      <td>2</td>\n      <td>18.0</td>\n      <td>0</td>\n      <td>0</td>\n      <td>73.5000</td>\n      <td>1</td>\n      <td>0</td>\n      <td>1</td>\n      <td>0</td>\n      <td>0</td>\n    </tr>\n    <tr>\n      <th>402</th>\n      <td>3</td>\n      <td>21.0</td>\n      <td>1</td>\n      <td>0</td>\n      <td>9.8250</td>\n      <td>0</td>\n      <td>0</td>\n      <td>1</td>\n      <td>1</td>\n      <td>0</td>\n    </tr>\n    <tr>\n      <th>570</th>\n      <td>2</td>\n      <td>62.0</td>\n      <td>0</td>\n      <td>0</td>\n      <td>10.5000</td>\n      <td>1</td>\n      <td>0</td>\n      <td>1</td>\n      <td>0</td>\n      <td>1</td>\n    </tr>\n    <tr>\n      <th>226</th>\n      <td>2</td>\n      <td>19.0</td>\n      <td>0</td>\n      <td>0</td>\n      <td>10.5000</td>\n      <td>1</td>\n      <td>0</td>\n      <td>1</td>\n      <td>0</td>\n      <td>1</td>\n    </tr>\n    <tr>\n      <th>369</th>\n      <td>1</td>\n      <td>24.0</td>\n      <td>0</td>\n      <td>0</td>\n      <td>69.3000</td>\n      <td>0</td>\n      <td>0</td>\n      <td>0</td>\n      <td>1</td>\n      <td>1</td>\n    </tr>\n    <tr>\n      <th>444</th>\n      <td>3</td>\n      <td>28.0</td>\n      <td>0</td>\n      <td>0</td>\n      <td>8.1125</td>\n      <td>1</td>\n      <td>0</td>\n      <td>1</td>\n      <td>0</td>\n      <td>1</td>\n    </tr>\n    <tr>\n      <th>454</th>\n      <td>3</td>\n      <td>28.0</td>\n      <td>0</td>\n      <td>0</td>\n      <td>8.0500</td>\n      <td>1</td>\n      <td>0</td>\n      <td>1</td>\n      <td>0</td>\n      <td>0</td>\n    </tr>\n    <tr>\n      <th>427</th>\n      <td>2</td>\n      <td>19.0</td>\n      <td>0</td>\n      <td>0</td>\n      <td>26.0000</td>\n      <td>0</td>\n      <td>0</td>\n      <td>1</td>\n      <td>1</td>\n      <td>1</td>\n    </tr>\n    <tr>\n      <th>698</th>\n      <td>1</td>\n      <td>49.0</td>\n      <td>1</td>\n      <td>1</td>\n      <td>110.8833</td>\n      <td>1</td>\n      <td>0</td>\n      <td>0</td>\n      <td>0</td>\n      <td>0</td>\n    </tr>\n    <tr>\n      <th>315</th>\n      <td>3</td>\n      <td>26.0</td>\n      <td>0</td>\n      <td>0</td>\n      <td>7.8542</td>\n      <td>0</td>\n      <td>0</td>\n      <td>1</td>\n      <td>1</td>\n      <td>1</td>\n    </tr>\n    <tr>\n      <th>208</th>\n      <td>3</td>\n      <td>16.0</td>\n      <td>0</td>\n      <td>0</td>\n      <td>7.7500</td>\n      <td>0</td>\n      <td>1</td>\n      <td>0</td>\n      <td>1</td>\n      <td>1</td>\n    </tr>\n    <tr>\n      <th>520</th>\n      <td>1</td>\n      <td>30.0</td>\n      <td>0</td>\n      <td>0</td>\n      <td>93.5000</td>\n      <td>0</td>\n      <td>0</td>\n      <td>1</td>\n      <td>1</td>\n      <td>1</td>\n    </tr>\n  </tbody>\n</table>\n</div>"
     },
     "execution_count": 51,
     "metadata": {},
     "output_type": "execute_result"
    }
   ],
   "source": [
    "algorithm = LogisticRegression(max_iter=1000)\n",
    "algorithm.fit(X_test, y_test)\n",
    "\n",
    "y_predict = algorithm.predict(X_test)\n",
    "predict = pd.concat([X_test, pd.DataFrame({'Y Predicted': y_predict, 'Y Real': y_test})], axis=1)\n",
    "predict.head((50))"
   ],
   "metadata": {
    "collapsed": false,
    "pycharm": {
     "name": "#%%\n"
    }
   }
  },
  {
   "cell_type": "code",
   "execution_count": 52,
>>>>>>> 2f43b30931e52bd79121dfdbd6b6af50c1cc28c0
   "outputs": [
    {
     "name": "stdout",
     "output_type": "stream",
     "text": [
      "              precision    recall  f1-score   support\n",
      "\n",
<<<<<<< HEAD
      "           0       0.72      0.80      0.76       162\n",
      "           1       0.63      0.54      0.58       106\n",
      "\n",
      "    accuracy                           0.69       268\n",
      "   macro avg       0.68      0.67      0.67       268\n",
      "weighted avg       0.69      0.69      0.69       268\n",
=======
      "           0       0.85      0.91      0.88       169\n",
      "           1       0.82      0.73      0.77        99\n",
      "\n",
      "    accuracy                           0.84       268\n",
      "   macro avg       0.83      0.82      0.82       268\n",
      "weighted avg       0.84      0.84      0.84       268\n",
>>>>>>> 2f43b30931e52bd79121dfdbd6b6af50c1cc28c0
      "\n"
     ]
    }
   ],
   "source": [
    "print(classification_report(y_test, y_predict))"
<<<<<<< HEAD
   ],
   "metadata": {
    "collapsed": false,
    "pycharm": {
     "name": "#%%\n"
    }
   }
  },
  {
   "cell_type": "code",
   "execution_count": 273,
   "outputs": [],
   "source": [
    "svc = svm.SVC(kernel='rbf', gamma=0.7, C=1.0)\n",
    "svc.fit(X_train, y_train)\n",
    "\n",
    "y_predict = svc.predict(X_test)\n",
    "predict = pd.concat([X_test, pd.DataFrame({'Y Predicted': y_predict, 'Y Real': y_test})], axis=1)"
=======
>>>>>>> 2f43b30931e52bd79121dfdbd6b6af50c1cc28c0
   ],
   "metadata": {
    "collapsed": false,
    "pycharm": {
     "name": "#%%\n"
    }
   }
  },
  {
   "cell_type": "code",
   "execution_count": 274,
   "metadata": {
    "pycharm": {
     "name": "#%%\n"
    }
   },
   "outputs": [
    {
     "name": "stdout",
     "output_type": "stream",
     "text": [
      "              precision    recall  f1-score   support\n",
      "\n",
      "           0       0.64      0.88      0.74       162\n",
      "           1       0.57      0.25      0.34       106\n",
      "\n",
      "    accuracy                           0.63       268\n",
      "   macro avg       0.60      0.56      0.54       268\n",
      "weighted avg       0.61      0.63      0.58       268\n",
      "\n"
     ]
    }
   ],
   "source": [
    "print(classification_report(y_test, y_predict))"
   ]
  },
  {
   "cell_type": "code",
   "execution_count": 275,
   "metadata": {
    "pycharm": {
     "name": "#%%\n"
    }
   },
   "outputs": [],
   "source": [
    "rf = RandomForestClassifier()\n",
    "rf.fit(X_train, y_train)\n",
    "\n",
    "y_predict = rf.predict(X_test)\n",
    "predict = pd.concat([X_test, pd.DataFrame({'Y Predicted': y_predict, 'Y Real': y_test})], axis=1)"
   ]
  },
  {
   "cell_type": "code",
   "execution_count": 276,
   "metadata": {
    "pycharm": {
     "name": "#%%\n"
    }
   },
   "outputs": [
    {
     "name": "stdout",
     "output_type": "stream",
     "text": [
      "              precision    recall  f1-score   support\n",
      "\n",
      "           0       0.81      0.86      0.83       162\n",
      "           1       0.76      0.70      0.73       106\n",
      "\n",
      "    accuracy                           0.79       268\n",
      "   macro avg       0.79      0.78      0.78       268\n",
      "weighted avg       0.79      0.79      0.79       268\n",
      "\n"
     ]
    }
   ],
   "source": [
    "print(classification_report(y_test, y_predict))\n"
   ]
  }
 ],
 "metadata": {
  "kernelspec": {
   "display_name": "Python 3",
   "language": "python",
   "name": "python3"
  },
  "language_info": {
   "codemirror_mode": {
    "name": "ipython",
    "version": 3
   },
   "file_extension": ".py",
   "mimetype": "text/x-python",
   "name": "python",
   "nbconvert_exporter": "python",
   "pygments_lexer": "ipython3",
   "version": "3.9.0"
  }
 },
 "nbformat": 4,
 "nbformat_minor": 1
}